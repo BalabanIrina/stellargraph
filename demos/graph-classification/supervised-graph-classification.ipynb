{
 "cells": [
  {
   "cell_type": "markdown",
   "metadata": {},
   "source": [
    "# Supervised graph classification example\n",
    "\n",
    "This notebook demonstrates how to train a graph classification model in a supervised setting using graph convolutional layers followed by a mean pooling layer as well as any number of fully connected layers.\n",
    "\n",
    "The graph convolutional classification model architecture is based on the one proposed in [1] using the graph convolutional layers from [2]. This demo differs from [1] in that the dataset, MUTAG, is a collection of graphs representing chemical compounds. "
   ]
  },
  {
   "cell_type": "code",
   "execution_count": 1,
   "metadata": {},
   "outputs": [],
   "source": [
    "import random\n",
    "import pandas as pd\n",
    "import numpy as np\n",
    "import matplotlib.pyplot as plt\n",
    "\n",
    "import stellargraph as sg\n",
    "from stellargraph.mapper import GraphGenerator\n",
    "from stellargraph.layer import GraphClassification\n",
    "from stellargraph import StellarGraph\n",
    "\n",
    "from stellargraph import datasets\n",
    "from stellargraph.utils import plot_history\n",
    "\n",
    "from sklearn import preprocessing, feature_extraction, model_selection\n",
    "from sklearn.manifold import TSNE\n",
    "from IPython.display import display, HTML\n",
    "\n",
    "from tensorflow.keras.optimizers import Adam\n",
    "from tensorflow.keras.layers import Dense\n",
    "from tensorflow.keras.losses import categorical_crossentropy\n",
    "from tensorflow.keras.callbacks import EarlyStopping\n",
    "import tensorflow as tf\n",
    "from tensorflow.keras import Model"
   ]
  },
  {
   "cell_type": "markdown",
   "metadata": {},
   "source": [
    "## Import the data"
   ]
  },
  {
   "cell_type": "code",
   "execution_count": 2,
   "metadata": {},
   "outputs": [
    {
     "data": {
      "text/html": [
       "Each graph represents a chemical compound and graph labels represent 'their mutagenic effect on a specific gram negative bacterium.'The dataset includes 188 graphs with 18 nodes and 20 edges on average for each graph. Graph nodes have 7 labels and each graph is labelled as belonging to 1 of 2 classes."
      ],
      "text/plain": [
       "<IPython.core.display.HTML object>"
      ]
     },
     "metadata": {},
     "output_type": "display_data"
    }
   ],
   "source": [
    "dataset = datasets.MUTAG()\n",
    "display(HTML(dataset.description))\n",
    "graphs, graph_labels = dataset.load()"
   ]
  },
  {
   "cell_type": "markdown",
   "metadata": {},
   "source": [
    "Split the data into train and test sets"
   ]
  },
  {
   "cell_type": "code",
   "execution_count": 3,
   "metadata": {},
   "outputs": [
    {
     "data": {
      "text/plain": [
       "(125, 63)"
      ]
     },
     "execution_count": 3,
     "metadata": {},
     "output_type": "execute_result"
    }
   ],
   "source": [
    "np.sum(graph_labels == \"1\"), np.sum(graph_labels == \"-1\")"
   ]
  },
  {
   "cell_type": "code",
   "execution_count": 4,
   "metadata": {},
   "outputs": [],
   "source": [
    "graph_labels = pd.get_dummies(graph_labels)"
   ]
  },
  {
   "cell_type": "code",
   "execution_count": 5,
   "metadata": {},
   "outputs": [],
   "source": [
    "train_graphs, test_graphs = model_selection.train_test_split(\n",
    "    graph_labels, train_size=0.8, test_size=None, stratify=graph_labels\n",
    ")\n",
    "val_graphs, train_graphs = model_selection.train_test_split(\n",
    "    train_graphs, train_size=0.4, test_size=None, stratify=train_graphs\n",
    ")"
   ]
  },
  {
   "cell_type": "code",
   "execution_count": 6,
   "metadata": {},
   "outputs": [
    {
     "data": {
      "text/plain": [
       "(90, 60, 38)"
      ]
     },
     "execution_count": 6,
     "metadata": {},
     "output_type": "execute_result"
    }
   ],
   "source": [
    "len(train_graphs), len(val_graphs), len(test_graphs)"
   ]
  },
  {
   "cell_type": "code",
   "execution_count": 7,
   "metadata": {},
   "outputs": [
    {
     "data": {
      "text/plain": [
       "(0.6666666666666666, 0.6666666666666666, 0.6578947368421053)"
      ]
     },
     "execution_count": 7,
     "metadata": {},
     "output_type": "execute_result"
    }
   ],
   "source": [
    "np.sum(train_graphs[\"1\"]) / len(train_graphs), np.sum(val_graphs[\"1\"]) / len(\n",
    "    val_graphs\n",
    "), np.sum(test_graphs[\"1\"]) / len(test_graphs)"
   ]
  },
  {
   "cell_type": "code",
   "execution_count": 8,
   "metadata": {},
   "outputs": [
    {
     "data": {
      "text/html": [
       "<div>\n",
       "<style scoped>\n",
       "    .dataframe tbody tr th:only-of-type {\n",
       "        vertical-align: middle;\n",
       "    }\n",
       "\n",
       "    .dataframe tbody tr th {\n",
       "        vertical-align: top;\n",
       "    }\n",
       "\n",
       "    .dataframe thead th {\n",
       "        text-align: right;\n",
       "    }\n",
       "</style>\n",
       "<table border=\"1\" class=\"dataframe\">\n",
       "  <thead>\n",
       "    <tr style=\"text-align: right;\">\n",
       "      <th>label</th>\n",
       "      <th>-1</th>\n",
       "      <th>1</th>\n",
       "    </tr>\n",
       "  </thead>\n",
       "  <tbody>\n",
       "    <tr>\n",
       "      <th>16</th>\n",
       "      <td>0</td>\n",
       "      <td>1</td>\n",
       "    </tr>\n",
       "    <tr>\n",
       "      <th>188</th>\n",
       "      <td>1</td>\n",
       "      <td>0</td>\n",
       "    </tr>\n",
       "    <tr>\n",
       "      <th>169</th>\n",
       "      <td>0</td>\n",
       "      <td>1</td>\n",
       "    </tr>\n",
       "    <tr>\n",
       "      <th>173</th>\n",
       "      <td>0</td>\n",
       "      <td>1</td>\n",
       "    </tr>\n",
       "    <tr>\n",
       "      <th>166</th>\n",
       "      <td>0</td>\n",
       "      <td>1</td>\n",
       "    </tr>\n",
       "    <tr>\n",
       "      <th>...</th>\n",
       "      <td>...</td>\n",
       "      <td>...</td>\n",
       "    </tr>\n",
       "    <tr>\n",
       "      <th>15</th>\n",
       "      <td>0</td>\n",
       "      <td>1</td>\n",
       "    </tr>\n",
       "    <tr>\n",
       "      <th>59</th>\n",
       "      <td>0</td>\n",
       "      <td>1</td>\n",
       "    </tr>\n",
       "    <tr>\n",
       "      <th>3</th>\n",
       "      <td>1</td>\n",
       "      <td>0</td>\n",
       "    </tr>\n",
       "    <tr>\n",
       "      <th>33</th>\n",
       "      <td>0</td>\n",
       "      <td>1</td>\n",
       "    </tr>\n",
       "    <tr>\n",
       "      <th>114</th>\n",
       "      <td>1</td>\n",
       "      <td>0</td>\n",
       "    </tr>\n",
       "  </tbody>\n",
       "</table>\n",
       "<p>90 rows × 2 columns</p>\n",
       "</div>"
      ],
      "text/plain": [
       "label  -1  1\n",
       "16      0  1\n",
       "188     1  0\n",
       "169     0  1\n",
       "173     0  1\n",
       "166     0  1\n",
       "..     .. ..\n",
       "15      0  1\n",
       "59      0  1\n",
       "3       1  0\n",
       "33      0  1\n",
       "114     1  0\n",
       "\n",
       "[90 rows x 2 columns]"
      ]
     },
     "execution_count": 8,
     "metadata": {},
     "output_type": "execute_result"
    }
   ],
   "source": [
    "train_graphs"
   ]
  },
  {
   "cell_type": "markdown",
   "metadata": {},
   "source": [
    "### Prepare graph generator\n",
    "\n",
    "To feed data to the Keras model that we will create later, we need a generator. For supervised graph classification, we will an instance of `GraphGenerator`."
   ]
  },
  {
   "cell_type": "code",
   "execution_count": 9,
   "metadata": {},
   "outputs": [],
   "source": [
    "generator = GraphGenerator(graphs=graphs)"
   ]
  },
  {
   "cell_type": "markdown",
   "metadata": {},
   "source": [
    "Next we need to create a sequence generators for each of our train, validation, and test data."
   ]
  },
  {
   "cell_type": "code",
   "execution_count": 10,
   "metadata": {},
   "outputs": [],
   "source": [
    "train_gen = generator.flow(\n",
    "    list(train_graphs.index - 1), targets=train_graphs.values, batch_size=10\n",
    ")\n",
    "val_gen = generator.flow(\n",
    "    list(val_graphs.index - 1), targets=val_graphs.values, batch_size=1\n",
    ")\n",
    "test_gen = generator.flow(\n",
    "    list(test_graphs.index - 1), targets=test_graphs.values, batch_size=1\n",
    ")"
   ]
  },
  {
   "cell_type": "markdown",
   "metadata": {},
   "source": [
    "### Create the Keras graph classification model\n",
    "\n",
    "We are now ready to create a Keras graph classification model using the `GraphClassification` class together with standard Keras models, e.g., Dense."
   ]
  },
  {
   "cell_type": "code",
   "execution_count": 11,
   "metadata": {},
   "outputs": [],
   "source": [
    "gc_model = GraphClassification(\n",
    "    layer_sizes=[16, 16], activations=[\"relu\", \"relu\"], generator=generator\n",
    ")\n",
    "x_inp, x_out = gc_model.build()\n",
    "predictions = Dense(units=8, activation=\"relu\")(x_out)\n",
    "predictions = Dense(units=2, activation=\"softmax\")(predictions)"
   ]
  },
  {
   "cell_type": "code",
   "execution_count": 12,
   "metadata": {},
   "outputs": [],
   "source": [
    "model = Model(inputs=x_inp, outputs=predictions)\n",
    "model.compile(optimizer=Adam(0.01), loss=categorical_crossentropy, metrics=[\"acc\"])"
   ]
  },
  {
   "cell_type": "markdown",
   "metadata": {},
   "source": [
    "### Train the model\n",
    "\n",
    "We can now train the model using the model's `fit` method."
   ]
  },
  {
   "cell_type": "code",
   "execution_count": 13,
   "metadata": {},
   "outputs": [],
   "source": [
    "es = EarlyStopping(monitor=\"val_loss\", min_delta=0, patience=10)"
   ]
  },
  {
   "cell_type": "code",
   "execution_count": 14,
   "metadata": {},
   "outputs": [
    {
     "name": "stdout",
     "output_type": "stream",
     "text": [
      "  ['...']\n",
      "  ['...']\n",
      "Train for 9 steps, validate for 60 steps\n",
      "Epoch 1/100\n",
      "9/9 - 1s - loss: 0.6550 - acc: 0.6778 - val_loss: 0.6297 - val_acc: 0.6667\n",
      "Epoch 2/100\n",
      "9/9 - 0s - loss: 0.6184 - acc: 0.6667 - val_loss: 0.6335 - val_acc: 0.6667\n",
      "Epoch 3/100\n",
      "9/9 - 0s - loss: 0.6305 - acc: 0.6667 - val_loss: 0.6263 - val_acc: 0.6667\n",
      "Epoch 4/100\n",
      "9/9 - 0s - loss: 0.6255 - acc: 0.6667 - val_loss: 0.6216 - val_acc: 0.6667\n",
      "Epoch 5/100\n",
      "9/9 - 0s - loss: 0.6184 - acc: 0.6667 - val_loss: 0.6179 - val_acc: 0.6667\n",
      "Epoch 6/100\n",
      "9/9 - 0s - loss: 0.6111 - acc: 0.6667 - val_loss: 0.6127 - val_acc: 0.6667\n",
      "Epoch 7/100\n",
      "9/9 - 0s - loss: 0.6056 - acc: 0.6667 - val_loss: 0.6068 - val_acc: 0.6667\n",
      "Epoch 8/100\n",
      "9/9 - 0s - loss: 0.5974 - acc: 0.6667 - val_loss: 0.6011 - val_acc: 0.6667\n",
      "Epoch 9/100\n",
      "9/9 - 0s - loss: 0.5883 - acc: 0.6667 - val_loss: 0.5950 - val_acc: 0.6667\n",
      "Epoch 10/100\n",
      "9/9 - 0s - loss: 0.5789 - acc: 0.6667 - val_loss: 0.5885 - val_acc: 0.6667\n",
      "Epoch 11/100\n",
      "9/9 - 0s - loss: 0.5666 - acc: 0.6667 - val_loss: 0.5895 - val_acc: 0.6667\n",
      "Epoch 12/100\n",
      "9/9 - 0s - loss: 0.5598 - acc: 0.6889 - val_loss: 0.5852 - val_acc: 0.7167\n",
      "Epoch 13/100\n",
      "9/9 - 0s - loss: 0.5505 - acc: 0.7111 - val_loss: 0.5868 - val_acc: 0.7000\n",
      "Epoch 14/100\n",
      "9/9 - 0s - loss: 0.5465 - acc: 0.7333 - val_loss: 0.5844 - val_acc: 0.7000\n",
      "Epoch 15/100\n",
      "9/9 - 0s - loss: 0.5394 - acc: 0.7222 - val_loss: 0.5872 - val_acc: 0.7000\n",
      "Epoch 16/100\n",
      "9/9 - 0s - loss: 0.5367 - acc: 0.7222 - val_loss: 0.5784 - val_acc: 0.6833\n",
      "Epoch 17/100\n",
      "9/9 - 0s - loss: 0.5292 - acc: 0.7111 - val_loss: 0.5821 - val_acc: 0.7000\n",
      "Epoch 18/100\n",
      "9/9 - 1s - loss: 0.5269 - acc: 0.7222 - val_loss: 0.5714 - val_acc: 0.6833\n",
      "Epoch 19/100\n",
      "9/9 - 0s - loss: 0.5196 - acc: 0.7111 - val_loss: 0.5847 - val_acc: 0.6833\n",
      "Epoch 20/100\n",
      "9/9 - 0s - loss: 0.5181 - acc: 0.7333 - val_loss: 0.5778 - val_acc: 0.6833\n",
      "Epoch 21/100\n",
      "9/9 - 1s - loss: 0.5145 - acc: 0.7444 - val_loss: 0.5807 - val_acc: 0.7000\n",
      "Epoch 22/100\n",
      "9/9 - 0s - loss: 0.5081 - acc: 0.7444 - val_loss: 0.5907 - val_acc: 0.7000\n",
      "Epoch 23/100\n",
      "9/9 - 0s - loss: 0.5079 - acc: 0.7444 - val_loss: 0.5876 - val_acc: 0.7167\n",
      "Epoch 24/100\n",
      "9/9 - 0s - loss: 0.5025 - acc: 0.7667 - val_loss: 0.5925 - val_acc: 0.7167\n",
      "Epoch 25/100\n",
      "9/9 - 0s - loss: 0.5023 - acc: 0.7667 - val_loss: 0.5902 - val_acc: 0.7167\n",
      "Epoch 26/100\n",
      "9/9 - 0s - loss: 0.4990 - acc: 0.7778 - val_loss: 0.5905 - val_acc: 0.7167\n",
      "Epoch 27/100\n",
      "9/9 - 0s - loss: 0.4984 - acc: 0.7556 - val_loss: 0.5957 - val_acc: 0.7167\n",
      "Epoch 28/100\n",
      "9/9 - 0s - loss: 0.4974 - acc: 0.7667 - val_loss: 0.5890 - val_acc: 0.7167\n"
     ]
    }
   ],
   "source": [
    "history = model.fit(\n",
    "    train_gen,\n",
    "    epochs=100,\n",
    "    validation_data=val_gen,\n",
    "    verbose=2,\n",
    "    shuffle=False,\n",
    "    callbacks=[es],\n",
    ")"
   ]
  },
  {
   "cell_type": "code",
   "execution_count": 15,
   "metadata": {},
   "outputs": [
    {
     "data": {
      "image/png": "[encoded data removed]",
      "text/plain": [
       "<Figure size 504x576 with 2 Axes>"
      ]
     },
     "metadata": {
      "needs_background": "light"
     },
     "output_type": "display_data"
    }
   ],
   "source": [
    "sg.utils.plot_history(history)"
   ]
  },
  {
   "cell_type": "markdown",
   "metadata": {},
   "source": [
    "### Evaluate performance on the test graphs"
   ]
  },
  {
   "cell_type": "code",
   "execution_count": 16,
   "metadata": {},
   "outputs": [
    {
     "name": "stdout",
     "output_type": "stream",
     "text": [
      "  ['...']\n",
      "38/38 [==============================] - 0s 5ms/step - loss: 0.4391 - acc: 0.7632\n",
      "\n",
      "Test Set Metrics:\n",
      "\tloss: 0.4391\n",
      "\tacc: 0.7632\n"
     ]
    }
   ],
   "source": [
    "test_metrics = model.evaluate(test_gen)\n",
    "print(\"\\nTest Set Metrics:\")\n",
    "for name, val in zip(model.metrics_names, test_metrics):\n",
    "    print(\"\\t{}: {:0.4f}\".format(name, val))"
   ]
  }
 ],
 "metadata": {
  "kernelspec": {
   "display_name": "tf2keras",
   "language": "python",
   "name": "tf2keras"
  },
  "language_info": {
   "codemirror_mode": {
    "name": "ipython",
    "version": 3
   },
   "file_extension": ".py",
   "mimetype": "text/x-python",
   "name": "python",
   "nbconvert_exporter": "python",
   "pygments_lexer": "ipython3",
   "version": "3.6.9"
  }
 },
 "nbformat": 4,
 "nbformat_minor": 2
}
