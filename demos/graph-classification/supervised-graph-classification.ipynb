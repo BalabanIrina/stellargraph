{
 "cells": [
  {
   "cell_type": "markdown",
   "metadata": {},
   "source": [
    "# Supervised graph classification example\n",
    "\n",
    "This notebook demonstrates how to train a graph classification model in a supervised setting using graph convolutional layers followed by a mean pooling layer as well as any number of fully connected layers.\n",
    "\n",
    "The graph convolutional classification model architecture is based on the one proposed in [1] (see Figure 5 in [1]) using the graph convolutional layers from [2]. This demo differs from [1] in that the dataset, MUTAG, is a collection of static graphs representing chemical compounds. Furthermore, none of the graph convolutional layers in our model utilise an attention head.\n",
    "\n",
    "Evaluation data for graph kernel-based approaches are taken from [3].\n",
    "\n",
    "**References**\n",
    "\n",
    "[1] Fake News Detection on Social Media using Geometric Deep Learning, F. Monti, F. Frasca, D. Eynard, D. Mannion, and M. M. Bronstein, ICLR 2019. ([link](https://arxiv.org/abs/1902.06673))\n",
    "\n",
    "[2] Semi-supervised Classification with Graph Convolutional Networks, T. N. Kipf and M. Welling, ICLR 2017. ([link](https://arxiv.org/abs/1609.02907))\n",
    "\n",
    "[3] An End-to-End Deep Learning Architecture for Graph Classification, M. Zhang, Z. Cui, M. Neumann, Y. Chen, AAAI-18. ([link](https://www.aaai.org/ocs/index.php/AAAI/AAAI18/paper/viewPaper/17146))"
   ]
  },
  {
   "cell_type": "code",
   "execution_count": 1,
   "metadata": {},
   "outputs": [],
   "source": [
    "import random\n",
    "import pandas as pd\n",
    "import numpy as np\n",
    "\n",
    "\n",
    "import stellargraph as sg\n",
    "from stellargraph.mapper import GraphGenerator\n",
    "from stellargraph.layer import GraphClassification\n",
    "from stellargraph import StellarGraph\n",
    "\n",
    "from stellargraph import datasets\n",
    "from stellargraph.utils import plot_history\n",
    "\n",
    "from sklearn import preprocessing, feature_extraction, model_selection\n",
    "from IPython.display import display, HTML\n",
    "\n",
    "from tensorflow.keras import Model\n",
    "from tensorflow.keras.optimizers import Adam\n",
    "from tensorflow.keras.layers import Dense\n",
    "from tensorflow.keras.losses import categorical_crossentropy\n",
    "from tensorflow.keras.callbacks import EarlyStopping\n",
    "import tensorflow as tf"
   ]
  },
  {
   "cell_type": "markdown",
   "metadata": {},
   "source": [
    "## Import the data"
   ]
  },
  {
   "cell_type": "code",
   "execution_count": 2,
   "metadata": {},
   "outputs": [
    {
     "data": {
      "text/html": [
       "Each graph represents a chemical compound and graph labels represent 'their mutagenic effect on a specific gram negative bacterium.'The dataset includes 188 graphs with 18 nodes and 20 edges on average for each graph. Graph nodes have 7 labels and each graph is labelled as belonging to 1 of 2 classes."
      ],
      "text/plain": [
       "<IPython.core.display.HTML object>"
      ]
     },
     "metadata": {},
     "output_type": "display_data"
    }
   ],
   "source": [
    "dataset = datasets.MUTAG()\n",
    "display(HTML(dataset.description))\n",
    "graphs, graph_labels = dataset.load()"
   ]
  },
  {
   "cell_type": "markdown",
   "metadata": {},
   "source": [
    "Split the data into train and test sets"
   ]
  },
  {
   "cell_type": "code",
   "execution_count": 3,
   "metadata": {},
   "outputs": [],
   "source": [
    "graph_labels_one_hot = pd.get_dummies(graph_labels)"
   ]
  },
  {
   "cell_type": "markdown",
   "metadata": {},
   "source": [
    "### Prepare graph generator\n",
    "\n",
    "To feed data to the Keras model that we will create later, we need a generator. For supervised graph classification, we need an instance of `GraphGenerator`."
   ]
  },
  {
   "cell_type": "code",
   "execution_count": 4,
   "metadata": {},
   "outputs": [],
   "source": [
    "generator = GraphGenerator(graphs=graphs)"
   ]
  },
  {
   "cell_type": "markdown",
   "metadata": {},
   "source": [
    "### Create the Keras graph classification model\n",
    "\n",
    "We are now ready to create a Keras graph classification model using the `GraphClassification` class together with standard Keras models, e.g., Dense."
   ]
  },
  {
   "cell_type": "code",
   "execution_count": 5,
   "metadata": {},
   "outputs": [],
   "source": [
    "def create_graph_classification_model(generator):\n",
    "    gc_model = GraphClassification(\n",
    "        layer_sizes=[16, 16],\n",
    "        activations=[\"relu\", \"relu\"],\n",
    "        generator=generator,\n",
    "        dropout=0.5,\n",
    "    )\n",
    "    x_inp, x_out = gc_model.build()\n",
    "    predictions = Dense(units=8, activation=\"relu\")(x_out)\n",
    "    predictions = Dense(units=2, activation=\"softmax\")(predictions)\n",
    "\n",
    "    return x_inp, predictions"
   ]
  },
  {
   "cell_type": "markdown",
   "metadata": {},
   "source": [
    "### Train the model\n",
    "\n",
    "We can now train the model using the model's `fit` method."
   ]
  },
  {
   "cell_type": "code",
   "execution_count": 6,
   "metadata": {},
   "outputs": [],
   "source": [
    "es = EarlyStopping(\n",
    "    monitor=\"val_loss\", min_delta=0, patience=10, restore_best_weights=True\n",
    ")"
   ]
  },
  {
   "cell_type": "code",
   "execution_count": 7,
   "metadata": {},
   "outputs": [],
   "source": [
    "def train_fold(model, train_gen, test_gen, es):\n",
    "    history = model.fit(\n",
    "        train_gen,\n",
    "        epochs=100,\n",
    "        validation_data=test_gen,\n",
    "        verbose=0,\n",
    "        shuffle=True,\n",
    "        callbacks=[es],\n",
    "    )\n",
    "    # calculate performance on the test data and return along with history\n",
    "    test_metrics = model.evaluate(test_gen)\n",
    "    for name, val in zip(model.metrics_names, test_metrics):\n",
    "        if name == \"acc\":\n",
    "            test_acc = val\n",
    "    return history, test_acc"
   ]
  },
  {
   "cell_type": "code",
   "execution_count": null,
   "metadata": {},
   "outputs": [],
   "source": [
    "best_model = None\n",
    "best_model_history = None\n",
    "best_model_test_acc = 0.0\n",
    "test_accs = []\n",
    "\n",
    "# For each fold, we are going to train the model num_restarts times. Each time, the model weights will be\n",
    "# initialized to different values but the training and test data given to the model will be the same.\n",
    "num_restarts = 3\n",
    "\n",
    "es = EarlyStopping(\n",
    "    monitor=\"val_loss\", min_delta=0, patience=10, restore_best_weights=True\n",
    ")\n",
    "\n",
    "for train_index, test_index in model_selection.StratifiedKFold(\n",
    "    n_splits=10, shuffle=True\n",
    ").split(np.arange(len(graphs)), graph_labels):\n",
    "    train_gen = generator.flow(\n",
    "        train_index, targets=graph_labels_one_hot.iloc[train_index].values, batch_size=30\n",
    "    )\n",
    "    test_gen = generator.flow(\n",
    "        test_index, targets=graph_labels_one_hot.iloc[test_index].values, batch_size=1\n",
    "    )\n",
    "    best_test_acc_for_fold = 0\n",
    "    for _ in range(num_restarts):\n",
    "        x_inp, predictions = create_graph_classification_model(generator)\n",
    "        model = Model(inputs=x_inp, outputs=predictions)\n",
    "        model.compile(\n",
    "            optimizer=Adam(0.001), loss=categorical_crossentropy, metrics=[\"acc\"]\n",
    "        )\n",
    "        history, test_acc = train_fold(model, train_gen, test_gen, es)\n",
    "        if test_acc > best_test_acc_for_fold:\n",
    "            best_test_acc_for_fold = test_acc\n",
    "        if (not best_model) or (test_acc > best_model_test_acc):\n",
    "            # the best overall model\n",
    "            best_model = tf.keras.models.clone_model(model)\n",
    "            best_model_history = history\n",
    "            best_model_test_acc = test_acc\n",
    "    test_accs.append(best_test_acc_for_fold)"
   ]
  },
  {
   "cell_type": "code",
   "execution_count": 9,
   "metadata": {},
   "outputs": [
    {
     "data": {
      "text/plain": [
       "[0.7368421,\n",
       " 0.7894737,\n",
       " 0.68421054,\n",
       " 0.7894737,\n",
       " 0.7894737,\n",
       " 0.7368421,\n",
       " 0.6315789,\n",
       " 0.7368421,\n",
       " 0.9444444,\n",
       " 0.7222222]"
      ]
     },
     "execution_count": 9,
     "metadata": {},
     "output_type": "execute_result"
    }
   ],
   "source": [
    "test_accs"
   ]
  },
  {
   "cell_type": "code",
   "execution_count": 10,
   "metadata": {},
   "outputs": [
    {
     "name": "stdout",
     "output_type": "stream",
     "text": [
      "Best model test accuracy: 0.9444444179534912\n"
     ]
    }
   ],
   "source": [
    "print(f\"Best model test accuracy: {best_model_test_acc}\")"
   ]
  },
  {
   "cell_type": "code",
   "execution_count": 11,
   "metadata": {},
   "outputs": [
    {
     "name": "stdout",
     "output_type": "stream",
     "text": [
      "Accuracy over all folds mean: 75.6 and std: 7.9\n"
     ]
    }
   ],
   "source": [
    "print(\n",
    "    f\"Accuracy over all folds mean: {np.round(np.mean(test_accs)*100, 1)} and std: {np.round(np.std(test_accs)*100,1)}\"\n",
    ")"
   ]
  },
  {
   "cell_type": "markdown",
   "metadata": {},
   "source": [
    "We are just going to plot the training history (losses and accuracies for the train and test data) for the best performing model."
   ]
  },
  {
   "cell_type": "code",
   "execution_count": 12,
   "metadata": {},
   "outputs": [
    {
     "data": {
      "image/png": "[encoded data removed]",
      "text/plain": [
       "<Figure size 504x576 with 2 Axes>"
      ]
     },
     "metadata": {
      "needs_background": "light"
     },
     "output_type": "display_data"
    }
   ],
   "source": [
    "sg.utils.plot_history(best_model_history)"
   ]
  },
  {
   "cell_type": "markdown",
   "metadata": {},
   "source": [
    "Average performance is $75.6\\pm7.9$.\n",
    "\n",
    "Generally, performance is a bit lower than SOTA in recent literature. However, we have not tuned the model for the best performance possible so some improvement over the current baseline could be possible.\n",
    "\n",
    "When comparing to graph kernel-based approaches, our straightforward GCN-based with mean pooling graph classification model is competitive the WL kernel being the exception.\n",
    "\n",
    "Some performance numbers from [3] for graph kernel-based approaches are as follows: \n",
    "- Graplet Kernel (GK): $81.39\\pm1.74$\n",
    "- Random Walk Kernel (RW): $79.17\\pm2.07$\n",
    "- Propagation Kernel (PK): $76.00\\pm2.69$\n",
    "- Weisfeiler-Lehman Subtree Kernel (WL): $84.11\\pm1.91$"
   ]
  }
 ],
 "metadata": {
  "kernelspec": {
   "display_name": "Python 3",
   "language": "python",
   "name": "python3"
  },
  "language_info": {
   "codemirror_mode": {
    "name": "ipython",
    "version": 3
   },
   "file_extension": ".py",
   "mimetype": "text/x-python",
   "name": "python",
   "nbconvert_exporter": "python",
   "pygments_lexer": "ipython3",
   "version": "3.6.9"
  }
 },
 "nbformat": 4,
 "nbformat_minor": 2
}
