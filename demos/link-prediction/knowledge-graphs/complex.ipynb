{
 "cells": [
  {
   "cell_type": "markdown",
   "metadata": {},
   "source": [
    "# ComplEx on WN18 and FB15K\n",
    "\n",
    "This notebook reproduces the experiments done in the paper that introduced the ComplEx algorith: Complex Embeddings for Simple Link Prediction, Théo Trouillon, Johannes Welbl, Sebastian Riedel, Éric Gaussier and Guillaume Bouchard, ICML 2016. http://jmlr.org/proceedings/papers/v48/trouillon16.pdf\n",
    "\n",
    "In table 2, the paper reports five metrics measured on the WN18 and FB15K datasets: \"raw\" MRR (mean reciprocal rank), \"filtered\" MRR and filtered Hits at {1, 3, 10}. This notebook measures only the \"raw\" metrics, because the filtered ones are currently more difficult to compute."
   ]
  },
  {
   "cell_type": "code",
   "execution_count": 1,
   "metadata": {},
   "outputs": [],
   "source": [
    "from stellargraph import datasets, utils\n",
    "from tensorflow.keras import optimizers, losses, metrics, regularizers, Model\n",
    "import numpy as np\n",
    "import pandas as pd\n",
    "\n",
    "from stellargraph.mapper import KGTripleGenerator\n",
    "from stellargraph.layer import ComplEx\n",
    "\n",
    "from IPython.display import HTML"
   ]
  },
  {
   "cell_type": "markdown",
   "metadata": {},
   "source": [
    "## Initialisation\n",
    "\n",
    "We need to set up our model parameters, like the number of epochs to train for, and the dimension of the embedding vectors we compute for each node and for each edge type. We'll also define a function to do our evaluation, so we can easily apply it to both WN18 and FB15k.\n",
    "\n",
    "The evaluation is performed in three steps:\n",
    "\n",
    "1. Load the data\n",
    "2. Train a model\n",
    "3. Evaluate the model\n",
    "\n",
    "The paper describes using the AdaGrad optimiser for 1000 epochs with an early stopping criterion evaluated every 50 epochs. We've found using the Adam optimiser allows for much fewer epochs. The paper says that the best choices of embedding dimension are generally 150 or 200, with close results. The paper evaluated using 1, 2, 5 and 10 negative samples, and found that using 10 improved performance on FB15k noticably (comparing to 1), but did not make much difference on WN18."
   ]
  },
  {
   "cell_type": "code",
   "execution_count": 2,
   "metadata": {
    "tags": [
     "parameters"
    ]
   },
   "outputs": [],
   "source": [
    "epochs = 20\n",
    "embedding_dimension = 150\n",
    "negative_samples = 10"
   ]
  },
  {
   "cell_type": "markdown",
   "metadata": {},
   "source": [
    "## WN18\n",
    "\n",
    "The paper uses the WN18 and FB15k datasets for validation. These datasets are not good for evaluating algorithms because they contain \"inverse relations\", where `(s, r1, o)` implies `(o, r2, s)` for a pair of relation types `r1` and `r2` (for instance, `_hyponym` (\"is more specific than\") and `_hypernym` (\"is more general than\") in WN18), however, they work fine to demonstrate StellarGraph's functionality, and are appropriate to compare against the published results.\n",
    "\n",
    "### Load the data\n",
    "\n",
    "The dataset comes with a defined train, test and validation split, each consisting of subject, relation, object triples. We can load a `StellarGraph` object with all of the triples, as well as the individual splits as Pandas DataFrames, using the `load` method of the `WN18` dataset."
   ]
  },
  {
   "cell_type": "code",
   "execution_count": 3,
   "metadata": {},
   "outputs": [
    {
     "data": {
      "text/html": [
       "The WN18 dataset consists of triplets from WordNet 3.0 (http://wordnet.princeton.edu). There are 40,943 synsets and 18 relation types among them. The training set contains 141442 triplets, the validation set 5000 and the test set 5000. Antoine Bordes, Xavier Glorot, Jason Weston and Yoshua Bengio “A Semantic Matching Energy Function for Learning with Multi-relational Data” (2014).\n",
       "\n",
       "Note: this dataset contains many inverse relations, and so should only be used to compare against published results. Prefer WN18RR. See: Kristina Toutanova and Danqi Chen “Observed versus latent features for knowledge base and text inference” (2015), and Dettmers, Tim, Pasquale Minervini, Pontus Stenetorp and Sebastian Riedel “Convolutional 2D Knowledge Graph Embeddings” (2017)."
      ],
      "text/plain": [
       "<IPython.core.display.HTML object>"
      ]
     },
     "metadata": {},
     "output_type": "display_data"
    }
   ],
   "source": [
    "wn18 = datasets.WN18()\n",
    "display(HTML(wn18.description))\n",
    "wn18_g, wn18_train, wn18_test, wn18_valid = wn18.load()"
   ]
  },
  {
   "cell_type": "code",
   "execution_count": 4,
   "metadata": {},
   "outputs": [
    {
     "name": "stdout",
     "output_type": "stream",
     "text": [
      "StellarDiGraph: Directed multigraph\n",
      " Nodes: 40943, Edges: 151442\n",
      "\n",
      " Node types:\n",
      "  default: [40943]\n",
      "    Features: none\n",
      "    Edge types: default-_also_see->default, default-_derivationally_related_form->default, default-_has_part->default, default-_hypernym->default, default-_hyponym->default, ... (13 more)\n",
      "\n",
      " Edge types:\n",
      "    default-_hyponym->default: [37221]\n",
      "    default-_hypernym->default: [37221]\n",
      "    default-_derivationally_related_form->default: [31867]\n",
      "    default-_member_meronym->default: [7928]\n",
      "    default-_member_holonym->default: [7928]\n",
      "    default-_part_of->default: [5148]\n",
      "    default-_has_part->default: [5142]\n",
      "    default-_member_of_domain_topic->default: [3341]\n",
      "    default-_synset_domain_topic_of->default: [3335]\n",
      "    default-_instance_hyponym->default: [3150]\n",
      "    default-_instance_hypernym->default: [3150]\n",
      "    default-_also_see->default: [1396]\n",
      "    default-_verb_group->default: [1220]\n",
      "    default-_member_of_domain_region->default: [983]\n",
      "    default-_synset_domain_region_of->default: [982]\n",
      "    default-_member_of_domain_usage->default: [675]\n",
      "    default-_synset_domain_usage_of->default: [669]\n",
      "    default-_similar_to->default: [86]\n"
     ]
    }
   ],
   "source": [
    "print(wn18_g.info())"
   ]
  },
  {
   "cell_type": "markdown",
   "metadata": {},
   "source": [
    "### Train a model\n",
    "\n",
    "The ComplEx algorithm consists of some embedding layers and a scoring layer, but the `ComplEx` object means these details are invisible to us. The `ComplEx` model consumes \"knowledge-graph triples\", which can be produced in the appropriate format using `KGTripleGenerator`."
   ]
  },
  {
   "cell_type": "code",
   "execution_count": 5,
   "metadata": {},
   "outputs": [],
   "source": [
    "wn18_gen = KGTripleGenerator(\n",
    "    wn18_g, batch_size=len(wn18_train) // 100  # ~100 batches per epoch\n",
    ")\n",
    "\n",
    "wn18_complex = ComplEx(\n",
    "    wn18_gen, k=embedding_dimension, embeddings_regularizer=regularizers.l2(1e-7)\n",
    ")\n",
    "\n",
    "wn18_inp, wn18_out = wn18_complex.build()\n",
    "\n",
    "wn18_model = Model(inputs=wn18_inp, outputs=wn18_out)\n",
    "\n",
    "wn18_model.compile(\n",
    "    optimizer=optimizers.Adam(lr=0.001),\n",
    "    loss=losses.BinaryCrossentropy(from_logits=True),\n",
    "    metrics=[metrics.BinaryAccuracy(threshold=0.0)],\n",
    ")"
   ]
  },
  {
   "cell_type": "markdown",
   "metadata": {},
   "source": [
    "Inputs for training are produced by calling the `KGTripleGenerator.flow` method, this takes a dataframe with `source`, `label` and `target` columns, where each row is a true edge in the knowledge graph.  The `negative_samples` parameter controls how many random edges are created for each positive edge to use as negative examples for training."
   ]
  },
  {
   "cell_type": "code",
   "execution_count": 6,
   "metadata": {},
   "outputs": [],
   "source": [
    "wn18_train_gen = wn18_gen.flow(\n",
    "    wn18_train, negative_samples=negative_samples, shuffle=True\n",
    ")\n",
    "wn18_valid_gen = wn18_gen.flow(wn18_valid, negative_samples=negative_samples)"
   ]
  },
  {
   "cell_type": "code",
   "execution_count": 7,
   "metadata": {},
   "outputs": [
    {
     "name": "stdout",
     "output_type": "stream",
     "text": [
      "Train for 101 steps, validate for 4 steps\n",
      "Epoch 1/20\n",
      "101/101 [==============================] - 21s 203ms/step - loss: 0.6961 - binary_accuracy: 0.4991 - val_loss: 0.6960 - val_binary_accuracy: 0.4991\n",
      "Epoch 2/20\n",
      "101/101 [==============================] - 19s 191ms/step - loss: 0.6958 - binary_accuracy: 0.5063 - val_loss: 0.6957 - val_binary_accuracy: 0.5024\n",
      "Epoch 3/20\n",
      "101/101 [==============================] - 20s 200ms/step - loss: 0.6955 - binary_accuracy: 0.5161 - val_loss: 0.6954 - val_binary_accuracy: 0.5062\n",
      "Epoch 4/20\n",
      "101/101 [==============================] - 20s 195ms/step - loss: 0.6951 - binary_accuracy: 0.5283 - val_loss: 0.6951 - val_binary_accuracy: 0.5190\n",
      "Epoch 5/20\n",
      "101/101 [==============================] - 19s 191ms/step - loss: 0.6947 - binary_accuracy: 0.5440 - val_loss: 0.6947 - val_binary_accuracy: 0.5353\n",
      "Epoch 6/20\n",
      "101/101 [==============================] - 19s 191ms/step - loss: 0.6935 - binary_accuracy: 0.6203 - val_loss: 0.6917 - val_binary_accuracy: 0.7401\n",
      "Epoch 7/20\n",
      "101/101 [==============================] - 18s 178ms/step - loss: 0.6757 - binary_accuracy: 0.8847 - val_loss: 0.6423 - val_binary_accuracy: 0.9075\n",
      "Epoch 8/20\n",
      "101/101 [==============================] - 19s 186ms/step - loss: 0.5481 - binary_accuracy: 0.9090 - val_loss: 0.4459 - val_binary_accuracy: 0.9091\n",
      "Epoch 9/20\n",
      "101/101 [==============================] - 19s 187ms/step - loss: 0.3580 - binary_accuracy: 0.9105 - val_loss: 0.3139 - val_binary_accuracy: 0.9105\n",
      "Epoch 10/20\n",
      "101/101 [==============================] - 19s 184ms/step - loss: 0.2655 - binary_accuracy: 0.9182 - val_loss: 0.2605 - val_binary_accuracy: 0.9166\n",
      "Epoch 11/20\n",
      "101/101 [==============================] - 19s 187ms/step - loss: 0.2008 - binary_accuracy: 0.9337 - val_loss: 0.2115 - val_binary_accuracy: 0.9277\n",
      "Epoch 12/20\n",
      "101/101 [==============================] - 19s 190ms/step - loss: 0.1426 - binary_accuracy: 0.9597 - val_loss: 0.1670 - val_binary_accuracy: 0.9453\n",
      "Epoch 13/20\n",
      "101/101 [==============================] - 19s 185ms/step - loss: 0.1011 - binary_accuracy: 0.9808 - val_loss: 0.1324 - val_binary_accuracy: 0.9626\n",
      "Epoch 14/20\n",
      "101/101 [==============================] - 19s 188ms/step - loss: 0.0766 - binary_accuracy: 0.9917 - val_loss: 0.1083 - val_binary_accuracy: 0.9768\n",
      "Epoch 15/20\n",
      "101/101 [==============================] - 19s 188ms/step - loss: 0.0625 - binary_accuracy: 0.9961 - val_loss: 0.0943 - val_binary_accuracy: 0.9850\n",
      "Epoch 16/20\n",
      "101/101 [==============================] - 18s 183ms/step - loss: 0.0548 - binary_accuracy: 0.9977 - val_loss: 0.0850 - val_binary_accuracy: 0.9902\n",
      "Epoch 17/20\n",
      "101/101 [==============================] - 18s 181ms/step - loss: 0.0502 - binary_accuracy: 0.9985 - val_loss: 0.0806 - val_binary_accuracy: 0.9921\n",
      "Epoch 18/20\n",
      "101/101 [==============================] - 18s 183ms/step - loss: 0.0472 - binary_accuracy: 0.9990 - val_loss: 0.0770 - val_binary_accuracy: 0.9931\n",
      "Epoch 19/20\n",
      "101/101 [==============================] - 19s 189ms/step - loss: 0.0452 - binary_accuracy: 0.9992 - val_loss: 0.0745 - val_binary_accuracy: 0.9935\n",
      "Epoch 20/20\n",
      "101/101 [==============================] - 18s 177ms/step - loss: 0.0437 - binary_accuracy: 0.9993 - val_loss: 0.0738 - val_binary_accuracy: 0.9936\n"
     ]
    }
   ],
   "source": [
    "wn18_history = wn18_model.fit(\n",
    "    wn18_train_gen, validation_data=wn18_valid_gen, epochs=epochs\n",
    ")"
   ]
  },
  {
   "cell_type": "code",
   "execution_count": 8,
   "metadata": {},
   "outputs": [
    {
     "data": {
      "image/png": "[encoded data removed]",
      "text/plain": [
       "<Figure size 504x576 with 2 Axes>"
      ]
     },
     "metadata": {
      "needs_background": "light"
     },
     "output_type": "display_data"
    }
   ],
   "source": [
    "utils.plot_history(wn18_history)"
   ]
  },
  {
   "cell_type": "markdown",
   "metadata": {},
   "source": [
    "### Evaluate the model\n",
    "\n",
    "We've now trained a model, so we can apply the evaluation procedure from the paper to it. This is done by taking each test edge `E = (s, r, o)`, and scoring it against all mutations `(s, r, n)` and `(n, r, o)` for every node `n` in the graph, that is, doing a prediction for every one of these edges similar to `E`. The \"raw\" rank is the number of mutated edges that have a higher predicted score than the true `E`."
   ]
  },
  {
   "cell_type": "code",
   "execution_count": 9,
   "metadata": {},
   "outputs": [],
   "source": [
    "wn18_raw_ranks = ComplEx.rank_edges_against_all_nodes(\n",
    "    wn18_model, wn18_gen.flow(wn18_test), wn18_g\n",
    ")"
   ]
  },
  {
   "cell_type": "code",
   "execution_count": 10,
   "metadata": {},
   "outputs": [],
   "source": [
    "# helper function to compute metrics from a dictionary of name -> array of ranks\n",
    "def summarise(name_to_ranks):\n",
    "    return pd.DataFrame(\n",
    "        [\n",
    "            {\n",
    "                \"mrr\": np.mean(1 / ranks),\n",
    "                \"hits at 1\": np.mean(ranks <= 1),\n",
    "                \"hits at 3\": np.mean(ranks <= 3),\n",
    "                \"hits at 10\": np.mean(ranks <= 10),\n",
    "            }\n",
    "            for ranks in name_to_ranks.values()\n",
    "        ],\n",
    "        index=name_to_ranks.keys(),\n",
    "    )"
   ]
  },
  {
   "cell_type": "code",
   "execution_count": 11,
   "metadata": {},
   "outputs": [
    {
     "data": {
      "text/html": [
       "<div>\n",
       "<style scoped>\n",
       "    .dataframe tbody tr th:only-of-type {\n",
       "        vertical-align: middle;\n",
       "    }\n",
       "\n",
       "    .dataframe tbody tr th {\n",
       "        vertical-align: top;\n",
       "    }\n",
       "\n",
       "    .dataframe thead th {\n",
       "        text-align: right;\n",
       "    }\n",
       "</style>\n",
       "<table border=\"1\" class=\"dataframe\">\n",
       "  <thead>\n",
       "    <tr style=\"text-align: right;\">\n",
       "      <th></th>\n",
       "      <th>mrr</th>\n",
       "      <th>hits at 1</th>\n",
       "      <th>hits at 3</th>\n",
       "      <th>hits at 10</th>\n",
       "    </tr>\n",
       "  </thead>\n",
       "  <tbody>\n",
       "    <tr>\n",
       "      <th>raw</th>\n",
       "      <td>0.571233</td>\n",
       "      <td>0.4501</td>\n",
       "      <td>0.6468</td>\n",
       "      <td>0.8026</td>\n",
       "    </tr>\n",
       "  </tbody>\n",
       "</table>\n",
       "</div>"
      ],
      "text/plain": [
       "          mrr  hits at 1  hits at 3  hits at 10\n",
       "raw  0.571233     0.4501     0.6468      0.8026"
      ]
     },
     "execution_count": 11,
     "metadata": {},
     "output_type": "execute_result"
    }
   ],
   "source": [
    "summarise({\"raw\": wn18_raw_ranks})"
   ]
  },
  {
   "cell_type": "markdown",
   "metadata": {},
   "source": [
    "For comparison, Table 2 in the paper gives the following results for WN18:\n",
    "\n",
    "| raw MRR | filtered MRR | hits at 1 | hits at 3 | hits at 10 |\n",
    "|--------:|-------------:|----------:|----------:|-----------:|\n",
    "|   0.587 |        0.941 |     0.936 |     0.945 |      0.947 |\n",
    "\n",
    "The raw MRR is similar."
   ]
  },
  {
   "cell_type": "markdown",
   "metadata": {},
   "source": [
    "## FB15k\n",
    "\n",
    "Now that we know the process, we can apply the model on the FB15k dataset in the same way.\n",
    "\n",
    "### Loading the data"
   ]
  },
  {
   "cell_type": "code",
   "execution_count": 12,
   "metadata": {},
   "outputs": [
    {
     "data": {
      "text/html": [
       "This FREEBASE FB15k DATA consists of a collection of triplets (synset, relation_type, triplet)extracted from Freebase (http://www.freebase.com). There are 14,951 mids and 1,345 relation types among them. The training set contains 483142 triplets, the validation set 50000 and the test set 59071. Antoine Bordes, Nicolas Usunier, Alberto Garcia-Durán, Jason Weston and Oksana Yakhnenko “Translating Embeddings for Modeling Multi-relational Data” (2013).\n",
       "\n",
       "Note: this dataset contains many inverse relations, and so should only be used to compare against published results. Prefer FB15k_237. See: Kristina Toutanova and Danqi Chen “Observed versus latent features for knowledge base and text inference” (2015), and Dettmers, Tim, Pasquale Minervini, Pontus Stenetorp and Sebastian Riedel “Convolutional 2D Knowledge Graph Embeddings” (2017)."
      ],
      "text/plain": [
       "<IPython.core.display.HTML object>"
      ]
     },
     "metadata": {},
     "output_type": "display_data"
    }
   ],
   "source": [
    "fb15k = datasets.FB15k()\n",
    "display(HTML(fb15k.description))\n",
    "fb15k_g, fb15k_train, fb15k_test, fb15k_valid = fb15k.load()"
   ]
  },
  {
   "cell_type": "code",
   "execution_count": 13,
   "metadata": {},
   "outputs": [
    {
     "name": "stdout",
     "output_type": "stream",
     "text": [
      "StellarDiGraph: Directed multigraph\n",
      " Nodes: 14951, Edges: 592213\n",
      "\n",
      " Node types:\n",
      "  default: [14951]\n",
      "    Features: none\n",
      "    Edge types: default-/american_football/football_coach/coaching_history./american_football/football_historical_coach_position/position->default, default-/american_football/football_coach/coaching_history./american_football/football_historical_coach_position/team->default, default-/american_football/football_coach_position/coaches_holding_this_position./american_football/football_historical_coach_position/coach->default, default-/american_football/football_coach_position/coaches_holding_this_position./american_football/football_historical_coach_position/team->default, default-/american_football/football_player/current_team./american_football/football_roster_position/position->default, ... (1340 more)\n",
      "\n",
      " Edge types:\n",
      "    default-/award/award_nominee/award_nominations./award/award_nomination/award_nominee->default: [19764]\n",
      "    default-/film/film/release_date_s./film/film_regional_release_date/film_release_region->default: [15837]\n",
      "    default-/award/award_nominee/award_nominations./award/award_nomination/award->default: [14921]\n",
      "    default-/award/award_category/nominees./award/award_nomination/award_nominee->default: [14921]\n",
      "    default-/people/profession/people_with_this_profession->default: [14220]\n",
      "    default-/people/person/profession->default: [14220]\n",
      "    default-/film/film/starring./film/performance/actor->default: [11638]\n",
      "    default-/film/actor/film./film/performance/film->default: [11638]\n",
      "    default-/award/award_nominated_work/award_nominations./award/award_nomination/award->default: [11594]\n",
      "    default-/award/award_category/nominees./award/award_nomination/nominated_for->default: [11594]\n",
      "    default-/award/award_winner/awards_won./award/award_honor/award_winner->default: [10378]\n",
      "    default-/film/film_genre/films_in_this_genre->default: [8946]\n",
      "    default-/film/film/genre->default: [8946]\n",
      "    default-/award/award_nominee/award_nominations./award/award_nomination/nominated_for->default: [7632]\n",
      "    default-/award/award_nominated_work/award_nominations./award/award_nomination/award_nominee->default: [7632]\n",
      "    default-/film/film_job/films_with_this_crew_job./film/film_crew_gig/film->default: [7400]\n",
      "    default-/film/film/other_crew./film/film_crew_gig/film_crew_role->default: [7400]\n",
      "    default-/common/topic/webpage./common/webpage/category->default: [7232]\n",
      "    default-/common/annotation_category/annotations./common/webpage/topic->default: [7232]\n",
      "    default-/music/genre/artists->default: [7229]\n",
      "    ... (1325 more)\n"
     ]
    }
   ],
   "source": [
    "print(fb15k_g.info())"
   ]
  },
  {
   "cell_type": "markdown",
   "metadata": {},
   "source": [
    "### Train a model"
   ]
  },
  {
   "cell_type": "code",
   "execution_count": 14,
   "metadata": {},
   "outputs": [],
   "source": [
    "fb15k_gen = KGTripleGenerator(\n",
    "    fb15k_g, batch_size=len(fb15k_train) // 100  # ~100 batches per epoch\n",
    ")\n",
    "\n",
    "fb15k_complex = ComplEx(\n",
    "    fb15k_gen, k=embedding_dimension, embeddings_regularizer=regularizers.l2(1e-8)\n",
    ")\n",
    "\n",
    "fb15k_inp, fb15k_out = fb15k_complex.build()\n",
    "\n",
    "fb15k_model = Model(inputs=fb15k_inp, outputs=fb15k_out)\n",
    "fb15k_model.compile(\n",
    "    optimizer=optimizers.Adam(lr=0.001),\n",
    "    loss=losses.BinaryCrossentropy(from_logits=True),\n",
    "    metrics=[metrics.BinaryAccuracy(threshold=0.0)],\n",
    ")"
   ]
  },
  {
   "cell_type": "code",
   "execution_count": 15,
   "metadata": {},
   "outputs": [],
   "source": [
    "fb15k_train_gen = fb15k_gen.flow(\n",
    "    fb15k_train, negative_samples=negative_samples, shuffle=True\n",
    ")\n",
    "fb15k_valid_gen = fb15k_gen.flow(fb15k_valid, negative_samples=negative_samples)"
   ]
  },
  {
   "cell_type": "code",
   "execution_count": 16,
   "metadata": {},
   "outputs": [
    {
     "name": "stdout",
     "output_type": "stream",
     "text": [
      "Train for 101 steps, validate for 11 steps\n",
      "Epoch 1/20\n",
      "101/101 [==============================] - 33s 324ms/step - loss: 0.6933 - binary_accuracy: 0.5003 - val_loss: 0.6933 - val_binary_accuracy: 0.5000\n",
      "Epoch 2/20\n",
      "101/101 [==============================] - 33s 327ms/step - loss: 0.6933 - binary_accuracy: 0.5032 - val_loss: 0.6933 - val_binary_accuracy: 0.5024\n",
      "Epoch 3/20\n",
      "101/101 [==============================] - 32s 320ms/step - loss: 0.6932 - binary_accuracy: 0.5097 - val_loss: 0.6932 - val_binary_accuracy: 0.5101\n",
      "Epoch 4/20\n",
      "101/101 [==============================] - 33s 324ms/step - loss: 0.6929 - binary_accuracy: 0.5434 - val_loss: 0.6919 - val_binary_accuracy: 0.6082\n",
      "Epoch 5/20\n",
      "101/101 [==============================] - 33s 330ms/step - loss: 0.6706 - binary_accuracy: 0.8121 - val_loss: 0.6084 - val_binary_accuracy: 0.9007\n",
      "Epoch 6/20\n",
      "101/101 [==============================] - 33s 324ms/step - loss: 0.4608 - binary_accuracy: 0.9076 - val_loss: 0.3359 - val_binary_accuracy: 0.9086\n",
      "Epoch 7/20\n",
      "101/101 [==============================] - 33s 327ms/step - loss: 0.2870 - binary_accuracy: 0.9123 - val_loss: 0.2540 - val_binary_accuracy: 0.9161\n",
      "Epoch 8/20\n",
      "101/101 [==============================] - 32s 321ms/step - loss: 0.2273 - binary_accuracy: 0.9213 - val_loss: 0.2080 - val_binary_accuracy: 0.9245\n",
      "Epoch 9/20\n",
      "101/101 [==============================] - 32s 315ms/step - loss: 0.1844 - binary_accuracy: 0.9311 - val_loss: 0.1701 - val_binary_accuracy: 0.9342\n",
      "Epoch 10/20\n",
      "101/101 [==============================] - 32s 319ms/step - loss: 0.1507 - binary_accuracy: 0.9419 - val_loss: 0.1433 - val_binary_accuracy: 0.9430\n",
      "Epoch 11/20\n",
      "101/101 [==============================] - 32s 319ms/step - loss: 0.1266 - binary_accuracy: 0.9507 - val_loss: 0.1244 - val_binary_accuracy: 0.9499\n",
      "Epoch 12/20\n",
      "101/101 [==============================] - 33s 322ms/step - loss: 0.1093 - binary_accuracy: 0.9576 - val_loss: 0.1110 - val_binary_accuracy: 0.9549\n",
      "Epoch 13/20\n",
      "101/101 [==============================] - 32s 314ms/step - loss: 0.0962 - binary_accuracy: 0.9630 - val_loss: 0.1017 - val_binary_accuracy: 0.9586\n",
      "Epoch 14/20\n",
      "101/101 [==============================] - 32s 314ms/step - loss: 0.0858 - binary_accuracy: 0.9678 - val_loss: 0.0947 - val_binary_accuracy: 0.9615\n",
      "Epoch 15/20\n",
      "101/101 [==============================] - 32s 322ms/step - loss: 0.0776 - binary_accuracy: 0.9715 - val_loss: 0.0884 - val_binary_accuracy: 0.9640\n",
      "Epoch 16/20\n",
      "101/101 [==============================] - 32s 314ms/step - loss: 0.0711 - binary_accuracy: 0.9745 - val_loss: 0.0839 - val_binary_accuracy: 0.9661\n",
      "Epoch 17/20\n",
      "101/101 [==============================] - 32s 313ms/step - loss: 0.0655 - binary_accuracy: 0.9770 - val_loss: 0.0804 - val_binary_accuracy: 0.9675\n",
      "Epoch 18/20\n",
      "101/101 [==============================] - 32s 321ms/step - loss: 0.0611 - binary_accuracy: 0.9788 - val_loss: 0.0770 - val_binary_accuracy: 0.9691\n",
      "Epoch 19/20\n",
      "101/101 [==============================] - 33s 322ms/step - loss: 0.0574 - binary_accuracy: 0.9803 - val_loss: 0.0755 - val_binary_accuracy: 0.9700\n",
      "Epoch 20/20\n",
      "101/101 [==============================] - 32s 319ms/step - loss: 0.0542 - binary_accuracy: 0.9816 - val_loss: 0.0738 - val_binary_accuracy: 0.9710\n"
     ]
    }
   ],
   "source": [
    "fb15k_history = fb15k_model.fit(\n",
    "    fb15k_train_gen, validation_data=fb15k_valid_gen, epochs=epochs\n",
    ")"
   ]
  },
  {
   "cell_type": "code",
   "execution_count": 17,
   "metadata": {},
   "outputs": [
    {
     "data": {
      "image/png": "[encoded data removed]",
      "text/plain": [
       "<Figure size 504x576 with 2 Axes>"
      ]
     },
     "metadata": {
      "needs_background": "light"
     },
     "output_type": "display_data"
    }
   ],
   "source": [
    "utils.plot_history(fb15k_history)"
   ]
  },
  {
   "cell_type": "markdown",
   "metadata": {},
   "source": [
    "### Evaluate the model"
   ]
  },
  {
   "cell_type": "code",
   "execution_count": 18,
   "metadata": {},
   "outputs": [],
   "source": [
    "fb15k_raw_ranks = ComplEx.rank_edges_against_all_nodes(\n",
    "    fb15k_model, fb15k_gen.flow(fb15k_test), fb15k_g\n",
    ")"
   ]
  },
  {
   "cell_type": "code",
   "execution_count": 19,
   "metadata": {},
   "outputs": [
    {
     "data": {
      "text/html": [
       "<div>\n",
       "<style scoped>\n",
       "    .dataframe tbody tr th:only-of-type {\n",
       "        vertical-align: middle;\n",
       "    }\n",
       "\n",
       "    .dataframe tbody tr th {\n",
       "        vertical-align: top;\n",
       "    }\n",
       "\n",
       "    .dataframe thead th {\n",
       "        text-align: right;\n",
       "    }\n",
       "</style>\n",
       "<table border=\"1\" class=\"dataframe\">\n",
       "  <thead>\n",
       "    <tr style=\"text-align: right;\">\n",
       "      <th></th>\n",
       "      <th>mrr</th>\n",
       "      <th>hits at 1</th>\n",
       "      <th>hits at 3</th>\n",
       "      <th>hits at 10</th>\n",
       "    </tr>\n",
       "  </thead>\n",
       "  <tbody>\n",
       "    <tr>\n",
       "      <th>raw</th>\n",
       "      <td>0.214013</td>\n",
       "      <td>0.107879</td>\n",
       "      <td>0.240355</td>\n",
       "      <td>0.443619</td>\n",
       "    </tr>\n",
       "  </tbody>\n",
       "</table>\n",
       "</div>"
      ],
      "text/plain": [
       "          mrr  hits at 1  hits at 3  hits at 10\n",
       "raw  0.214013   0.107879   0.240355    0.443619"
      ]
     },
     "execution_count": 19,
     "metadata": {},
     "output_type": "execute_result"
    }
   ],
   "source": [
    "summarise({\"raw\": fb15k_raw_ranks})"
   ]
  },
  {
   "cell_type": "markdown",
   "metadata": {},
   "source": [
    "For comparison, Table 2 in the paper gives the following results for FB15k:\n",
    "\n",
    "| raw MRR | filtered MRR | hits at 1 | hits at 3 | hits at 10 |\n",
    "|--------:|-------------:|----------:|----------:|-----------:|\n",
    "|   0.242 |        0.692 |     0.599 |     0.759 |      0.850 |"
   ]
  }
 ],
 "metadata": {
  "kernelspec": {
   "display_name": "Python 3",
   "language": "python",
   "name": "python3"
  },
  "language_info": {
   "codemirror_mode": {
    "name": "ipython",
    "version": 3
   },
   "file_extension": ".py",
   "mimetype": "text/x-python",
   "name": "python",
   "nbconvert_exporter": "python",
   "pygments_lexer": "ipython3",
   "version": "3.6.9"
  }
 },
 "nbformat": 4,
 "nbformat_minor": 4
}
