{
 "cells": [
  {
   "cell_type": "markdown",
   "metadata": {},
   "source": [
    "### Forcasting using spatio-temporal data with combined Graph Convolution + LSTM model\n",
    "\n",
    "The dynamics of many real-world phenomena are spatio-temporal in nature. Traffic forecasting is a quintessential example of spatio-temporal problems for which we present here a deep learning framework that models speed prediction using spatio-temporal data. The task is challenging due to two main inter-linked factors: (1) the complex spatial dependency on road networks, and (2) non-linear temporal dynamics with changing road conditions.\n",
    "\n",
    "To address these challenge, here we  explore a neural network architecture that learns from both the spatial road network data and time-series of historical speed changes to forecast speeds on road segments at a future time. We use a 2-layer graph convolution network to leverage the graph structure of the road network. The output of the graph convolution network is fed into an LSTM based sequence to sequence model, that is jointly trained on the output of gcn and the historical speeds of a segment. \n",
    "\n",
    "The architecture of the gcn-lstm model is inpired by the paper: [T-GCN: A Temporal Graph Convolutional Network for Traffic Prediction](https://ieeexplore.ieee.org/document/8809901).\n",
    "\n",
    "The authors have made available the implementation of their model in their github [repo](https://github.com/lehaifeng/T-GCN).\n",
    "There has been a few differences in the architecture proposed in the paper and the implementation with regards to the graph convolution component, these issues have been documented [here](https://github.com/lehaifeng/T-GCN/issues/18) and [here](https://github.com/lehaifeng/T-GCN/issues/14). Here we attempt at emulating the model as explained in the paperr. \n",
    "\n",
    "Concretetly, \n",
    "1. We use the 2-layer graph convolutional network (gcn) proposed by [Kipf & Welling (ICLR 2017)](http://arxiv.org/abs/1609.02907)\n",
    "2. We stack the gcn with 1 layer of LSTM. The [TGCN](https://ieeexplore.ieee.org/document/8809901) uses GRU instead of LSTM. In practice there are not any remarkable differences between the two types of layers. We use LSTM as they are more frequently used.\n",
    "3. We further add a Dropout and Dense layer as they experimentally showed improvement in performance and managing over-fitting.\n",
    "#### References: \n",
    "* [T-GCN: A Temporal Graph Convolutional Network for Traffic Prediction](https://ieeexplore.ieee.org/document/8809901)\n",
    "* [https://github.com/lehaifeng/T-GCN](https://github.com/lehaifeng/T-GCN)\n",
    "* [Semi-Supervised Classification with Graph Convolutional Networks](http://arxiv.org/abs/1609.02907)"
   ]
  },
  {
   "cell_type": "code",
   "execution_count": 1,
   "metadata": {},
   "outputs": [],
   "source": [
    "import os\n",
    "import sys\n",
    "            \n",
    "import numpy as np\n",
    "import matplotlib.pyplot as plt\n",
    "import matplotlib.lines as mlines\n",
    "\n",
    "import tensorflow as tf\n",
    "from tensorflow import keras\n",
    "from tensorflow.keras import Sequential\n",
    "from tensorflow.keras.layers import LSTM, Dense, Dropout, Input"
   ]
  },
  {
   "cell_type": "markdown",
   "metadata": {},
   "source": [
    "#### Data\n",
    "\n",
    "We apply the gcn-lstm model to the ***Los-loop*** data. This traffic dataset\n",
    "contains traffic information collected from loop detectors in the highway of Los Angeles County (Jagadish\n",
    "et al., 2014).  There are several processed versions of this dataset used by the research community working in Traffic forecasting space. \n",
    "\n",
    "This demo is based on the pre-processed version of the dataset used by the TGCN paper. It can be directly accessed from there [github repo](https://github.com/lehaifeng/T-GCN/tree/master/data). \n",
    "\n",
    "This dataset  contains traffic speeds from Mar.1 to Mar.7, 2012 of 207 sensors, recorded every 5 minutes. \n",
    "\n",
    "In order to use the model, we need:\n",
    "\n",
    "* A N by N adjacency matrix, which describes the spatial relationship between roads,\n",
    "* A N by D feature matrix, which describes the speed change over time on the roads.\n",
    "\n",
    "We have provided the csv files of the weighted adjacency matrix and the time-series of speeds in the [/data](/data) directory with the demo for convenience. However, this may change in near future. The data can still be obtained by the TGCN repo nonetheless. \n",
    "\n",
    "A couple of other references for the same data albeit different time length are as follows: \n",
    "\n",
    "* [DIFFUSION CONVOLUTIONAL RECURRENT NEURAL NETWORK: DATA-DRIVEN TRAFFIC FORECASTING](https://github.com/liyaguang/DCRNN/tree/master/data): This dataset consists of 207 sensors and collect 4 months of data ranging from Mar 1st 2012 to Jun 30th 2012 for the experiment. It has some missing values.\n",
    "* [ST-MetaNet: Urban Traffic Prediction from Spatio-Temporal Data Using Deep Meta Learning](https://github.com/panzheyi/ST-MetaNet/tree/master/traffic-prediction). This work uses the DCRNN pre-proccessed data."
   ]
  },
  {
   "cell_type": "markdown",
   "metadata": {},
   "source": [
    "#### Loading and pre-processing the data"
   ]
  },
  {
   "cell_type": "code",
   "execution_count": 2,
   "metadata": {},
   "outputs": [],
   "source": [
    "from input_data import load_los_data, train_test_split, scale_data, sequence_data_preparation"
   ]
  },
  {
   "cell_type": "code",
   "execution_count": 3,
   "metadata": {},
   "outputs": [],
   "source": [
    "data, adj = load_los_data('los')"
   ]
  },
  {
   "cell_type": "code",
   "execution_count": 4,
   "metadata": {},
   "outputs": [
    {
     "name": "stdout",
     "output_type": "stream",
     "text": [
      "No. of sensors: 207 \n",
      "No of timesteps: 2016\n"
     ]
    }
   ],
   "source": [
    "num_nodes = data.shape[1]\n",
    "time_len = data.shape[0]\n",
    "print( \"No. of sensors:\", num_nodes, \"\\nNo of timesteps:\",time_len)"
   ]
  },
  {
   "cell_type": "markdown",
   "metadata": {},
   "source": [
    "#### Train/test split"
   ]
  },
  {
   "cell_type": "code",
   "execution_count": 5,
   "metadata": {},
   "outputs": [
    {
     "name": "stdout",
     "output_type": "stream",
     "text": [
      "Train data:  (1612, 207)\n",
      "Test data:  (404, 207)\n"
     ]
    }
   ],
   "source": [
    "train_rate = 0.8\n",
    "train_data, test_data = train_test_split(data, train_rate)\n",
    "print(\"Train data: \", train_data.shape)\n",
    "print(\"Test data: \", test_data.shape)"
   ]
  },
  {
   "cell_type": "markdown",
   "metadata": {},
   "source": [
    "#### Scaling"
   ]
  },
  {
   "cell_type": "code",
   "execution_count": 6,
   "metadata": {},
   "outputs": [],
   "source": [
    "train_scaled, test_scaled = scale_data(train_data, test_data)"
   ]
  },
  {
   "cell_type": "markdown",
   "metadata": {},
   "source": [
    "### Sequence data perparation for LSTM\n",
    "\n",
    "* Each training observation are 10 historical speeds.\n",
    "*Each training prediction is the speed 30 minutes later."
   ]
  },
  {
   "cell_type": "code",
   "execution_count": 7,
   "metadata": {},
   "outputs": [],
   "source": [
    "seq_len = 10\n",
    "pre_len = 6"
   ]
  },
  {
   "cell_type": "code",
   "execution_count": 8,
   "metadata": {},
   "outputs": [
    {
     "name": "stdout",
     "output_type": "stream",
     "text": [
      "(1597, 10, 207)\n",
      "(1597, 207)\n",
      "(389, 10, 207)\n",
      "(389, 207)\n"
     ]
    }
   ],
   "source": [
    "trainX, trainY, testX, testY = sequence_data_preparation(seq_len, pre_len, train_scaled, test_scaled)\n",
    "print(trainX.shape)\n",
    "print(trainY.shape)\n",
    "print(testX.shape)\n",
    "print(testY.shape)"
   ]
  },
  {
   "cell_type": "markdown",
   "metadata": {},
   "source": [
    "### StellarGraph Graph Convolution and LSTM model"
   ]
  },
  {
   "cell_type": "code",
   "execution_count": 9,
   "metadata": {},
   "outputs": [],
   "source": [
    "from stellargraph.layer import Graph_Convolution_LSTM"
   ]
  },
  {
   "cell_type": "code",
   "execution_count": 10,
   "metadata": {},
   "outputs": [],
   "source": [
    "gcn_lstm_model = Graph_Convolution_LSTM(num_nodes, adj)"
   ]
  },
  {
   "cell_type": "code",
   "execution_count": 11,
   "metadata": {},
   "outputs": [],
   "source": [
    "gcn_lstm_model.compile(optimizer = \"adam\", loss = 'mae', metrics = ['mse'])"
   ]
  },
  {
   "cell_type": "code",
   "execution_count": 12,
   "metadata": {},
   "outputs": [
    {
     "name": "stdout",
     "output_type": "stream",
     "text": [
      "Train on 1597 samples, validate on 389 samples\n",
      "Epoch 1/200\n",
      "1597/1597 [==============================] - 3s 2ms/sample - loss: 0.1960 - mse: 0.0677 - val_loss: 0.1285 - val_mse: 0.0494\n",
      "Epoch 2/200\n",
      "1597/1597 [==============================] - 1s 372us/sample - loss: 0.1052 - mse: 0.0330 - val_loss: 0.1086 - val_mse: 0.0422\n",
      "Epoch 3/200\n",
      "1597/1597 [==============================] - 1s 424us/sample - loss: 0.0982 - mse: 0.0302 - val_loss: 0.1057 - val_mse: 0.0408\n",
      "Epoch 4/200\n",
      "1597/1597 [==============================] - 1s 390us/sample - loss: 0.0935 - mse: 0.0284 - val_loss: 0.1049 - val_mse: 0.0404\n",
      "Epoch 5/200\n",
      "1597/1597 [==============================] - 1s 393us/sample - loss: 0.0910 - mse: 0.0281 - val_loss: 0.1036 - val_mse: 0.0396\n",
      "Epoch 6/200\n",
      "1597/1597 [==============================] - 1s 459us/sample - loss: 0.0887 - mse: 0.0273 - val_loss: 0.1015 - val_mse: 0.0374\n",
      "Epoch 7/200\n",
      "1597/1597 [==============================] - 1s 394us/sample - loss: 0.0875 - mse: 0.0269 - val_loss: 0.1014 - val_mse: 0.0375\n",
      "Epoch 8/200\n",
      "1597/1597 [==============================] - 1s 393us/sample - loss: 0.0860 - mse: 0.0262 - val_loss: 0.1015 - val_mse: 0.0378\n",
      "Epoch 9/200\n",
      "1597/1597 [==============================] - 1s 377us/sample - loss: 0.0838 - mse: 0.0250 - val_loss: 0.0999 - val_mse: 0.0360\n",
      "Epoch 10/200\n",
      "1597/1597 [==============================] - 1s 378us/sample - loss: 0.0816 - mse: 0.0234 - val_loss: 0.0960 - val_mse: 0.0325\n",
      "Epoch 11/200\n",
      "1597/1597 [==============================] - 1s 383us/sample - loss: 0.0783 - mse: 0.0214 - val_loss: 0.0927 - val_mse: 0.0303\n",
      "Epoch 12/200\n",
      "1597/1597 [==============================] - 1s 378us/sample - loss: 0.0767 - mse: 0.0207 - val_loss: 0.0908 - val_mse: 0.0296\n",
      "Epoch 13/200\n",
      "1597/1597 [==============================] - 1s 385us/sample - loss: 0.0754 - mse: 0.0200 - val_loss: 0.0901 - val_mse: 0.0287\n",
      "Epoch 14/200\n",
      "1597/1597 [==============================] - 1s 392us/sample - loss: 0.0744 - mse: 0.0197 - val_loss: 0.0905 - val_mse: 0.0296\n",
      "Epoch 15/200\n",
      "1597/1597 [==============================] - 1s 386us/sample - loss: 0.0738 - mse: 0.0196 - val_loss: 0.0897 - val_mse: 0.0290\n",
      "Epoch 16/200\n",
      "1597/1597 [==============================] - 1s 391us/sample - loss: 0.0736 - mse: 0.0194 - val_loss: 0.0892 - val_mse: 0.0288\n",
      "Epoch 17/200\n",
      "1597/1597 [==============================] - 1s 397us/sample - loss: 0.0729 - mse: 0.0191 - val_loss: 0.0890 - val_mse: 0.0286\n",
      "Epoch 18/200\n",
      "1597/1597 [==============================] - 1s 399us/sample - loss: 0.0722 - mse: 0.0190 - val_loss: 0.0883 - val_mse: 0.0283\n",
      "Epoch 19/200\n",
      "1597/1597 [==============================] - 1s 416us/sample - loss: 0.0720 - mse: 0.0190 - val_loss: 0.0872 - val_mse: 0.0272\n",
      "Epoch 20/200\n",
      "1597/1597 [==============================] - 1s 399us/sample - loss: 0.0716 - mse: 0.0188 - val_loss: 0.0879 - val_mse: 0.0279\n",
      "Epoch 21/200\n",
      "1597/1597 [==============================] - 1s 400us/sample - loss: 0.0709 - mse: 0.0184 - val_loss: 0.0863 - val_mse: 0.0270\n",
      "Epoch 22/200\n",
      "1597/1597 [==============================] - 1s 403us/sample - loss: 0.0698 - mse: 0.0180 - val_loss: 0.0855 - val_mse: 0.0261\n",
      "Epoch 23/200\n",
      "1597/1597 [==============================] - 1s 403us/sample - loss: 0.0690 - mse: 0.0174 - val_loss: 0.0839 - val_mse: 0.0254\n",
      "Epoch 24/200\n",
      "1597/1597 [==============================] - 1s 408us/sample - loss: 0.0678 - mse: 0.0167 - val_loss: 0.0832 - val_mse: 0.0247\n",
      "Epoch 25/200\n",
      "1597/1597 [==============================] - 1s 406us/sample - loss: 0.0679 - mse: 0.0165 - val_loss: 0.0793 - val_mse: 0.0223\n",
      "Epoch 26/200\n",
      "1597/1597 [==============================] - 1s 407us/sample - loss: 0.0660 - mse: 0.0155 - val_loss: 0.0763 - val_mse: 0.0202\n",
      "Epoch 27/200\n",
      "1597/1597 [==============================] - 1s 415us/sample - loss: 0.0644 - mse: 0.0147 - val_loss: 0.0747 - val_mse: 0.0195\n",
      "Epoch 28/200\n",
      "1597/1597 [==============================] - 1s 409us/sample - loss: 0.0640 - mse: 0.0143 - val_loss: 0.0732 - val_mse: 0.0185\n",
      "Epoch 29/200\n",
      "1597/1597 [==============================] - 1s 413us/sample - loss: 0.0625 - mse: 0.0136 - val_loss: 0.0714 - val_mse: 0.0174\n",
      "Epoch 30/200\n",
      "1597/1597 [==============================] - 1s 417us/sample - loss: 0.0616 - mse: 0.0131 - val_loss: 0.0693 - val_mse: 0.0164\n",
      "Epoch 31/200\n",
      "1597/1597 [==============================] - 1s 418us/sample - loss: 0.0612 - mse: 0.0130 - val_loss: 0.0691 - val_mse: 0.0160\n",
      "Epoch 32/200\n",
      "1597/1597 [==============================] - 1s 424us/sample - loss: 0.0612 - mse: 0.0129 - val_loss: 0.0675 - val_mse: 0.0151\n",
      "Epoch 33/200\n",
      "1597/1597 [==============================] - 1s 423us/sample - loss: 0.0602 - mse: 0.0125 - val_loss: 0.0662 - val_mse: 0.0147\n",
      "Epoch 34/200\n",
      "1597/1597 [==============================] - 1s 419us/sample - loss: 0.0595 - mse: 0.0122 - val_loss: 0.0655 - val_mse: 0.0143\n",
      "Epoch 35/200\n",
      "1597/1597 [==============================] - 1s 425us/sample - loss: 0.0594 - mse: 0.0121 - val_loss: 0.0647 - val_mse: 0.0137\n",
      "Epoch 36/200\n",
      "1597/1597 [==============================] - 1s 428us/sample - loss: 0.0589 - mse: 0.0120 - val_loss: 0.0647 - val_mse: 0.0143\n",
      "Epoch 37/200\n",
      "1597/1597 [==============================] - 1s 425us/sample - loss: 0.0591 - mse: 0.0121 - val_loss: 0.0652 - val_mse: 0.0143\n",
      "Epoch 38/200\n",
      "1597/1597 [==============================] - 1s 453us/sample - loss: 0.0584 - mse: 0.0118 - val_loss: 0.0643 - val_mse: 0.0138\n",
      "Epoch 39/200\n",
      "1597/1597 [==============================] - 1s 435us/sample - loss: 0.0579 - mse: 0.0116 - val_loss: 0.0658 - val_mse: 0.0144\n",
      "Epoch 40/200\n",
      "1597/1597 [==============================] - 1s 429us/sample - loss: 0.0577 - mse: 0.0116 - val_loss: 0.0650 - val_mse: 0.0143\n",
      "Epoch 41/200\n",
      "1597/1597 [==============================] - 1s 429us/sample - loss: 0.0581 - mse: 0.0116 - val_loss: 0.0656 - val_mse: 0.0145\n",
      "Epoch 42/200\n",
      "1597/1597 [==============================] - 1s 447us/sample - loss: 0.0572 - mse: 0.0114 - val_loss: 0.0631 - val_mse: 0.0134\n",
      "Epoch 43/200\n",
      "1597/1597 [==============================] - 1s 431us/sample - loss: 0.0565 - mse: 0.0113 - val_loss: 0.0626 - val_mse: 0.0129\n",
      "Epoch 44/200\n",
      "1597/1597 [==============================] - 1s 449us/sample - loss: 0.0565 - mse: 0.0112 - val_loss: 0.0628 - val_mse: 0.0133\n",
      "Epoch 45/200\n",
      "1597/1597 [==============================] - 1s 440us/sample - loss: 0.0564 - mse: 0.0112 - val_loss: 0.0628 - val_mse: 0.0134\n",
      "Epoch 46/200\n",
      "1597/1597 [==============================] - 1s 432us/sample - loss: 0.0560 - mse: 0.0110 - val_loss: 0.0632 - val_mse: 0.0136\n",
      "Epoch 47/200\n",
      "1597/1597 [==============================] - 1s 437us/sample - loss: 0.0560 - mse: 0.0110 - val_loss: 0.0619 - val_mse: 0.0128\n",
      "Epoch 48/200\n",
      "1597/1597 [==============================] - 1s 445us/sample - loss: 0.0558 - mse: 0.0109 - val_loss: 0.0631 - val_mse: 0.0127\n",
      "Epoch 49/200\n",
      "1597/1597 [==============================] - 1s 445us/sample - loss: 0.0558 - mse: 0.0109 - val_loss: 0.0619 - val_mse: 0.0131\n",
      "Epoch 50/200\n",
      "1597/1597 [==============================] - 1s 448us/sample - loss: 0.0557 - mse: 0.0109 - val_loss: 0.0633 - val_mse: 0.0136\n",
      "Epoch 51/200\n",
      "1597/1597 [==============================] - 1s 439us/sample - loss: 0.0552 - mse: 0.0108 - val_loss: 0.0628 - val_mse: 0.0133\n",
      "Epoch 52/200\n",
      "1597/1597 [==============================] - 1s 449us/sample - loss: 0.0550 - mse: 0.0107 - val_loss: 0.0613 - val_mse: 0.0128\n",
      "Epoch 53/200\n",
      "1597/1597 [==============================] - 1s 444us/sample - loss: 0.0554 - mse: 0.0107 - val_loss: 0.0621 - val_mse: 0.0134\n",
      "Epoch 54/200\n",
      "1597/1597 [==============================] - 1s 451us/sample - loss: 0.0547 - mse: 0.0107 - val_loss: 0.0610 - val_mse: 0.0125\n",
      "Epoch 55/200\n",
      "1597/1597 [==============================] - 1s 449us/sample - loss: 0.0546 - mse: 0.0105 - val_loss: 0.0621 - val_mse: 0.0135\n",
      "Epoch 56/200\n",
      "1597/1597 [==============================] - 1s 467us/sample - loss: 0.0542 - mse: 0.0104 - val_loss: 0.0612 - val_mse: 0.0129\n",
      "Epoch 57/200\n",
      "1597/1597 [==============================] - 1s 452us/sample - loss: 0.0541 - mse: 0.0104 - val_loss: 0.0602 - val_mse: 0.0125\n",
      "Epoch 58/200\n",
      "1597/1597 [==============================] - 1s 452us/sample - loss: 0.0540 - mse: 0.0104 - val_loss: 0.0604 - val_mse: 0.0127\n",
      "Epoch 59/200\n",
      "1597/1597 [==============================] - 1s 447us/sample - loss: 0.0542 - mse: 0.0103 - val_loss: 0.0628 - val_mse: 0.0135\n",
      "Epoch 60/200\n",
      "1597/1597 [==============================] - 1s 471us/sample - loss: 0.0538 - mse: 0.0102 - val_loss: 0.0605 - val_mse: 0.0123\n",
      "Epoch 61/200\n",
      "1597/1597 [==============================] - 1s 465us/sample - loss: 0.0536 - mse: 0.0101 - val_loss: 0.0603 - val_mse: 0.0124\n",
      "Epoch 62/200\n",
      "1597/1597 [==============================] - 1s 460us/sample - loss: 0.0541 - mse: 0.0103 - val_loss: 0.0600 - val_mse: 0.0124\n",
      "Epoch 63/200\n",
      "1597/1597 [==============================] - 1s 466us/sample - loss: 0.0535 - mse: 0.0101 - val_loss: 0.0609 - val_mse: 0.0129\n",
      "Epoch 64/200\n",
      "1597/1597 [==============================] - 1s 457us/sample - loss: 0.0532 - mse: 0.0100 - val_loss: 0.0597 - val_mse: 0.0119\n",
      "Epoch 65/200\n",
      "1597/1597 [==============================] - 1s 466us/sample - loss: 0.0530 - mse: 0.0099 - val_loss: 0.0606 - val_mse: 0.0129\n",
      "Epoch 66/200\n",
      "1597/1597 [==============================] - 1s 490us/sample - loss: 0.0534 - mse: 0.0101 - val_loss: 0.0595 - val_mse: 0.0118\n",
      "Epoch 67/200\n",
      "1597/1597 [==============================] - 1s 481us/sample - loss: 0.0531 - mse: 0.0098 - val_loss: 0.0592 - val_mse: 0.0119\n",
      "Epoch 68/200\n",
      "1597/1597 [==============================] - 1s 459us/sample - loss: 0.0531 - mse: 0.0099 - val_loss: 0.0594 - val_mse: 0.0122\n",
      "Epoch 69/200\n",
      "1597/1597 [==============================] - 1s 462us/sample - loss: 0.0526 - mse: 0.0098 - val_loss: 0.0592 - val_mse: 0.0122\n",
      "Epoch 70/200\n",
      "1597/1597 [==============================] - 1s 462us/sample - loss: 0.0527 - mse: 0.0098 - val_loss: 0.0591 - val_mse: 0.0124\n",
      "Epoch 71/200\n",
      "1597/1597 [==============================] - 1s 470us/sample - loss: 0.0523 - mse: 0.0097 - val_loss: 0.0595 - val_mse: 0.0126\n",
      "Epoch 72/200\n",
      "1597/1597 [==============================] - 1s 466us/sample - loss: 0.0523 - mse: 0.0097 - val_loss: 0.0590 - val_mse: 0.0120\n",
      "Epoch 73/200\n",
      "1597/1597 [==============================] - 1s 476us/sample - loss: 0.0518 - mse: 0.0095 - val_loss: 0.0592 - val_mse: 0.0123\n",
      "Epoch 74/200\n",
      "1597/1597 [==============================] - 1s 461us/sample - loss: 0.0523 - mse: 0.0096 - val_loss: 0.0597 - val_mse: 0.0121\n",
      "Epoch 75/200\n",
      "1597/1597 [==============================] - 1s 471us/sample - loss: 0.0525 - mse: 0.0096 - val_loss: 0.0596 - val_mse: 0.0124\n",
      "Epoch 76/200\n",
      "1597/1597 [==============================] - 1s 476us/sample - loss: 0.0520 - mse: 0.0095 - val_loss: 0.0586 - val_mse: 0.0120\n",
      "Epoch 77/200\n",
      "1597/1597 [==============================] - 1s 470us/sample - loss: 0.0521 - mse: 0.0095 - val_loss: 0.0582 - val_mse: 0.0120\n",
      "Epoch 78/200\n",
      "1597/1597 [==============================] - 1s 476us/sample - loss: 0.0517 - mse: 0.0095 - val_loss: 0.0584 - val_mse: 0.0119\n",
      "Epoch 79/200\n",
      "1597/1597 [==============================] - 1s 471us/sample - loss: 0.0512 - mse: 0.0093 - val_loss: 0.0590 - val_mse: 0.0122\n",
      "Epoch 80/200\n",
      "1597/1597 [==============================] - 1s 488us/sample - loss: 0.0515 - mse: 0.0093 - val_loss: 0.0586 - val_mse: 0.0122\n",
      "Epoch 81/200\n",
      "1597/1597 [==============================] - 1s 504us/sample - loss: 0.0514 - mse: 0.0093 - val_loss: 0.0590 - val_mse: 0.0122\n",
      "Epoch 82/200\n",
      "1597/1597 [==============================] - 1s 519us/sample - loss: 0.0517 - mse: 0.0095 - val_loss: 0.0588 - val_mse: 0.0120\n",
      "Epoch 83/200\n",
      "1597/1597 [==============================] - 1s 528us/sample - loss: 0.0510 - mse: 0.0092 - val_loss: 0.0584 - val_mse: 0.0123\n",
      "Epoch 84/200\n",
      "1597/1597 [==============================] - 1s 523us/sample - loss: 0.0514 - mse: 0.0094 - val_loss: 0.0585 - val_mse: 0.0122\n",
      "Epoch 85/200\n",
      "1597/1597 [==============================] - 1s 530us/sample - loss: 0.0511 - mse: 0.0092 - val_loss: 0.0583 - val_mse: 0.0119\n",
      "Epoch 86/200\n",
      "1597/1597 [==============================] - 1s 523us/sample - loss: 0.0511 - mse: 0.0092 - val_loss: 0.0614 - val_mse: 0.0133\n",
      "Epoch 87/200\n",
      "1597/1597 [==============================] - 1s 524us/sample - loss: 0.0520 - mse: 0.0093 - val_loss: 0.0585 - val_mse: 0.0119\n",
      "Epoch 88/200\n",
      "1597/1597 [==============================] - 1s 537us/sample - loss: 0.0508 - mse: 0.0091 - val_loss: 0.0584 - val_mse: 0.0117\n",
      "Epoch 89/200\n",
      "1597/1597 [==============================] - 1s 523us/sample - loss: 0.0505 - mse: 0.0090 - val_loss: 0.0588 - val_mse: 0.0122\n",
      "Epoch 90/200\n",
      "1597/1597 [==============================] - 1s 514us/sample - loss: 0.0506 - mse: 0.0091 - val_loss: 0.0578 - val_mse: 0.0118\n",
      "Epoch 91/200\n",
      "1597/1597 [==============================] - 1s 537us/sample - loss: 0.0503 - mse: 0.0089 - val_loss: 0.0581 - val_mse: 0.0119\n",
      "Epoch 92/200\n",
      "1597/1597 [==============================] - 1s 534us/sample - loss: 0.0504 - mse: 0.0090 - val_loss: 0.0577 - val_mse: 0.0119\n",
      "Epoch 93/200\n",
      "1597/1597 [==============================] - 1s 539us/sample - loss: 0.0504 - mse: 0.0089 - val_loss: 0.0581 - val_mse: 0.0121\n",
      "Epoch 94/200\n",
      "1597/1597 [==============================] - 1s 509us/sample - loss: 0.0501 - mse: 0.0089 - val_loss: 0.0578 - val_mse: 0.0121\n",
      "Epoch 95/200\n",
      "1597/1597 [==============================] - 1s 490us/sample - loss: 0.0502 - mse: 0.0089 - val_loss: 0.0573 - val_mse: 0.0117\n",
      "Epoch 96/200\n",
      "1597/1597 [==============================] - 1s 493us/sample - loss: 0.0495 - mse: 0.0087 - val_loss: 0.0578 - val_mse: 0.0119\n",
      "Epoch 97/200\n",
      "1597/1597 [==============================] - 1s 492us/sample - loss: 0.0499 - mse: 0.0088 - val_loss: 0.0583 - val_mse: 0.0121\n",
      "Epoch 98/200\n",
      "1597/1597 [==============================] - 1s 486us/sample - loss: 0.0501 - mse: 0.0088 - val_loss: 0.0581 - val_mse: 0.0117\n",
      "Epoch 99/200\n",
      "1597/1597 [==============================] - 1s 492us/sample - loss: 0.0501 - mse: 0.0088 - val_loss: 0.0578 - val_mse: 0.0120\n",
      "Epoch 100/200\n",
      "1597/1597 [==============================] - 1s 480us/sample - loss: 0.0498 - mse: 0.0087 - val_loss: 0.0584 - val_mse: 0.0117\n",
      "Epoch 101/200\n",
      "1597/1597 [==============================] - 1s 482us/sample - loss: 0.0502 - mse: 0.0089 - val_loss: 0.0576 - val_mse: 0.0121\n",
      "Epoch 102/200\n",
      "1597/1597 [==============================] - 1s 509us/sample - loss: 0.0504 - mse: 0.0088 - val_loss: 0.0586 - val_mse: 0.0121\n",
      "Epoch 103/200\n",
      "1597/1597 [==============================] - 1s 500us/sample - loss: 0.0497 - mse: 0.0087 - val_loss: 0.0579 - val_mse: 0.0122\n",
      "Epoch 104/200\n",
      "1597/1597 [==============================] - 1s 456us/sample - loss: 0.0495 - mse: 0.0086 - val_loss: 0.0583 - val_mse: 0.0120\n",
      "Epoch 105/200\n",
      "1597/1597 [==============================] - 1s 450us/sample - loss: 0.0500 - mse: 0.0088 - val_loss: 0.0584 - val_mse: 0.0123\n",
      "Epoch 106/200\n",
      "1597/1597 [==============================] - 1s 437us/sample - loss: 0.0496 - mse: 0.0086 - val_loss: 0.0584 - val_mse: 0.0125\n",
      "Epoch 107/200\n",
      "1597/1597 [==============================] - 1s 429us/sample - loss: 0.0492 - mse: 0.0085 - val_loss: 0.0580 - val_mse: 0.0122\n",
      "Epoch 108/200\n",
      "1597/1597 [==============================] - 1s 445us/sample - loss: 0.0494 - mse: 0.0085 - val_loss: 0.0577 - val_mse: 0.0121\n",
      "Epoch 109/200\n",
      "1597/1597 [==============================] - 1s 448us/sample - loss: 0.0493 - mse: 0.0085 - val_loss: 0.0576 - val_mse: 0.0121\n",
      "Epoch 110/200\n",
      "1597/1597 [==============================] - 1s 442us/sample - loss: 0.0491 - mse: 0.0085 - val_loss: 0.0578 - val_mse: 0.0118\n",
      "Epoch 111/200\n",
      "1597/1597 [==============================] - 1s 433us/sample - loss: 0.0489 - mse: 0.0084 - val_loss: 0.0571 - val_mse: 0.0119\n",
      "Epoch 112/200\n",
      "1597/1597 [==============================] - 1s 415us/sample - loss: 0.0489 - mse: 0.0084 - val_loss: 0.0578 - val_mse: 0.0119\n",
      "Epoch 113/200\n",
      "1597/1597 [==============================] - 1s 416us/sample - loss: 0.0490 - mse: 0.0084 - val_loss: 0.0578 - val_mse: 0.0120\n",
      "Epoch 114/200\n",
      "1597/1597 [==============================] - 1s 423us/sample - loss: 0.0489 - mse: 0.0084 - val_loss: 0.0578 - val_mse: 0.0120\n",
      "Epoch 115/200\n",
      "1597/1597 [==============================] - 1s 413us/sample - loss: 0.0486 - mse: 0.0083 - val_loss: 0.0578 - val_mse: 0.0120\n",
      "Epoch 116/200\n",
      "1597/1597 [==============================] - 1s 415us/sample - loss: 0.0487 - mse: 0.0083 - val_loss: 0.0575 - val_mse: 0.0121\n",
      "Epoch 117/200\n",
      "1597/1597 [==============================] - 1s 427us/sample - loss: 0.0489 - mse: 0.0083 - val_loss: 0.0582 - val_mse: 0.0119\n",
      "Epoch 118/200\n",
      "1597/1597 [==============================] - 1s 416us/sample - loss: 0.0492 - mse: 0.0084 - val_loss: 0.0577 - val_mse: 0.0119\n",
      "Epoch 119/200\n",
      "1597/1597 [==============================] - 1s 415us/sample - loss: 0.0492 - mse: 0.0085 - val_loss: 0.0587 - val_mse: 0.0120\n",
      "Epoch 120/200\n",
      "1597/1597 [==============================] - 1s 409us/sample - loss: 0.0492 - mse: 0.0084 - val_loss: 0.0585 - val_mse: 0.0121\n",
      "Epoch 121/200\n",
      "1597/1597 [==============================] - 1s 413us/sample - loss: 0.0487 - mse: 0.0083 - val_loss: 0.0579 - val_mse: 0.0120\n",
      "Epoch 122/200\n",
      "1597/1597 [==============================] - 1s 425us/sample - loss: 0.0489 - mse: 0.0083 - val_loss: 0.0571 - val_mse: 0.0118\n",
      "Epoch 123/200\n",
      "1597/1597 [==============================] - 1s 423us/sample - loss: 0.0490 - mse: 0.0083 - val_loss: 0.0574 - val_mse: 0.0120\n",
      "Epoch 124/200\n",
      "1597/1597 [==============================] - 1s 448us/sample - loss: 0.0485 - mse: 0.0082 - val_loss: 0.0575 - val_mse: 0.0121\n",
      "Epoch 125/200\n",
      "1597/1597 [==============================] - 1s 441us/sample - loss: 0.0485 - mse: 0.0082 - val_loss: 0.0574 - val_mse: 0.0120\n",
      "Epoch 126/200\n",
      "1597/1597 [==============================] - 1s 473us/sample - loss: 0.0484 - mse: 0.0081 - val_loss: 0.0580 - val_mse: 0.0121\n",
      "Epoch 127/200\n",
      "1597/1597 [==============================] - 1s 503us/sample - loss: 0.0490 - mse: 0.0083 - val_loss: 0.0578 - val_mse: 0.0123\n",
      "Epoch 128/200\n",
      "1597/1597 [==============================] - 1s 460us/sample - loss: 0.0485 - mse: 0.0081 - val_loss: 0.0576 - val_mse: 0.0121\n",
      "Epoch 129/200\n",
      "1597/1597 [==============================] - 1s 449us/sample - loss: 0.0484 - mse: 0.0082 - val_loss: 0.0582 - val_mse: 0.0120\n",
      "Epoch 130/200\n",
      "1597/1597 [==============================] - 1s 464us/sample - loss: 0.0482 - mse: 0.0081 - val_loss: 0.0576 - val_mse: 0.0119\n",
      "Epoch 131/200\n",
      "1597/1597 [==============================] - 1s 455us/sample - loss: 0.0481 - mse: 0.0080 - val_loss: 0.0578 - val_mse: 0.0120\n",
      "Epoch 132/200\n",
      "1597/1597 [==============================] - 1s 454us/sample - loss: 0.0478 - mse: 0.0079 - val_loss: 0.0572 - val_mse: 0.0118\n",
      "Epoch 133/200\n",
      "1597/1597 [==============================] - 1s 433us/sample - loss: 0.0479 - mse: 0.0080 - val_loss: 0.0573 - val_mse: 0.0118\n",
      "Epoch 134/200\n",
      "1597/1597 [==============================] - 1s 416us/sample - loss: 0.0477 - mse: 0.0079 - val_loss: 0.0580 - val_mse: 0.0122\n",
      "Epoch 135/200\n",
      "1597/1597 [==============================] - 1s 417us/sample - loss: 0.0478 - mse: 0.0079 - val_loss: 0.0575 - val_mse: 0.0120\n",
      "Epoch 136/200\n",
      "1597/1597 [==============================] - 1s 420us/sample - loss: 0.0482 - mse: 0.0080 - val_loss: 0.0572 - val_mse: 0.0119\n",
      "Epoch 137/200\n",
      "1597/1597 [==============================] - 1s 412us/sample - loss: 0.0480 - mse: 0.0079 - val_loss: 0.0575 - val_mse: 0.0120\n",
      "Epoch 138/200\n",
      "1597/1597 [==============================] - 1s 413us/sample - loss: 0.0477 - mse: 0.0079 - val_loss: 0.0575 - val_mse: 0.0120\n",
      "Epoch 139/200\n",
      "1597/1597 [==============================] - 1s 420us/sample - loss: 0.0480 - mse: 0.0080 - val_loss: 0.0573 - val_mse: 0.0119\n",
      "Epoch 140/200\n",
      "1597/1597 [==============================] - 1s 415us/sample - loss: 0.0477 - mse: 0.0079 - val_loss: 0.0575 - val_mse: 0.0120\n",
      "Epoch 141/200\n",
      "1597/1597 [==============================] - 1s 414us/sample - loss: 0.0478 - mse: 0.0079 - val_loss: 0.0584 - val_mse: 0.0120\n",
      "Epoch 142/200\n",
      "1597/1597 [==============================] - 1s 438us/sample - loss: 0.0478 - mse: 0.0079 - val_loss: 0.0575 - val_mse: 0.0121\n",
      "Epoch 143/200\n",
      "1597/1597 [==============================] - 1s 434us/sample - loss: 0.0479 - mse: 0.0079 - val_loss: 0.0584 - val_mse: 0.0122\n",
      "Epoch 144/200\n",
      "1597/1597 [==============================] - 1s 432us/sample - loss: 0.0478 - mse: 0.0079 - val_loss: 0.0581 - val_mse: 0.0124\n",
      "Epoch 145/200\n",
      "1597/1597 [==============================] - 1s 414us/sample - loss: 0.0474 - mse: 0.0079 - val_loss: 0.0573 - val_mse: 0.0119\n",
      "Epoch 146/200\n",
      "1597/1597 [==============================] - 1s 415us/sample - loss: 0.0473 - mse: 0.0077 - val_loss: 0.0583 - val_mse: 0.0123\n",
      "Epoch 147/200\n",
      "1597/1597 [==============================] - 1s 406us/sample - loss: 0.0476 - mse: 0.0078 - val_loss: 0.0575 - val_mse: 0.0120\n",
      "Epoch 148/200\n",
      "1597/1597 [==============================] - 1s 418us/sample - loss: 0.0472 - mse: 0.0076 - val_loss: 0.0579 - val_mse: 0.0121\n",
      "Epoch 149/200\n",
      "1597/1597 [==============================] - 1s 415us/sample - loss: 0.0478 - mse: 0.0078 - val_loss: 0.0577 - val_mse: 0.0122\n",
      "Epoch 150/200\n",
      "1597/1597 [==============================] - 1s 418us/sample - loss: 0.0473 - mse: 0.0076 - val_loss: 0.0569 - val_mse: 0.0119\n",
      "Epoch 151/200\n",
      "1597/1597 [==============================] - 1s 413us/sample - loss: 0.0469 - mse: 0.0076 - val_loss: 0.0574 - val_mse: 0.0120\n",
      "Epoch 152/200\n",
      "1597/1597 [==============================] - 1s 411us/sample - loss: 0.0471 - mse: 0.0076 - val_loss: 0.0577 - val_mse: 0.0121\n",
      "Epoch 153/200\n",
      "1597/1597 [==============================] - 1s 425us/sample - loss: 0.0473 - mse: 0.0077 - val_loss: 0.0582 - val_mse: 0.0122\n",
      "Epoch 154/200\n",
      "1597/1597 [==============================] - 1s 429us/sample - loss: 0.0470 - mse: 0.0075 - val_loss: 0.0571 - val_mse: 0.0120\n",
      "Epoch 155/200\n",
      "1597/1597 [==============================] - 1s 420us/sample - loss: 0.0468 - mse: 0.0075 - val_loss: 0.0573 - val_mse: 0.0121\n",
      "Epoch 156/200\n",
      "1597/1597 [==============================] - 1s 421us/sample - loss: 0.0468 - mse: 0.0075 - val_loss: 0.0578 - val_mse: 0.0124\n",
      "Epoch 157/200\n",
      "1597/1597 [==============================] - 1s 415us/sample - loss: 0.0466 - mse: 0.0075 - val_loss: 0.0578 - val_mse: 0.0123\n",
      "Epoch 158/200\n",
      "1597/1597 [==============================] - 1s 413us/sample - loss: 0.0466 - mse: 0.0074 - val_loss: 0.0579 - val_mse: 0.0126\n",
      "Epoch 159/200\n",
      "1597/1597 [==============================] - 1s 418us/sample - loss: 0.0470 - mse: 0.0076 - val_loss: 0.0579 - val_mse: 0.0125\n",
      "Epoch 160/200\n",
      "1597/1597 [==============================] - 1s 408us/sample - loss: 0.0467 - mse: 0.0075 - val_loss: 0.0580 - val_mse: 0.0123\n",
      "Epoch 161/200\n",
      "1597/1597 [==============================] - 1s 412us/sample - loss: 0.0466 - mse: 0.0074 - val_loss: 0.0575 - val_mse: 0.0123\n",
      "Epoch 162/200\n",
      "1597/1597 [==============================] - 1s 413us/sample - loss: 0.0466 - mse: 0.0074 - val_loss: 0.0575 - val_mse: 0.0123\n",
      "Epoch 163/200\n",
      "1597/1597 [==============================] - 1s 407us/sample - loss: 0.0468 - mse: 0.0074 - val_loss: 0.0586 - val_mse: 0.0125\n",
      "Epoch 164/200\n",
      "1597/1597 [==============================] - 1s 412us/sample - loss: 0.0467 - mse: 0.0074 - val_loss: 0.0581 - val_mse: 0.0123\n",
      "Epoch 165/200\n",
      "1597/1597 [==============================] - 1s 412us/sample - loss: 0.0462 - mse: 0.0073 - val_loss: 0.0577 - val_mse: 0.0123\n",
      "Epoch 166/200\n",
      "1597/1597 [==============================] - 1s 409us/sample - loss: 0.0464 - mse: 0.0073 - val_loss: 0.0576 - val_mse: 0.0120\n",
      "Epoch 167/200\n",
      "1597/1597 [==============================] - 1s 416us/sample - loss: 0.0464 - mse: 0.0073 - val_loss: 0.0574 - val_mse: 0.0122\n",
      "Epoch 168/200\n",
      "1597/1597 [==============================] - 1s 413us/sample - loss: 0.0465 - mse: 0.0074 - val_loss: 0.0576 - val_mse: 0.0118\n",
      "Epoch 169/200\n",
      "1597/1597 [==============================] - 1s 403us/sample - loss: 0.0462 - mse: 0.0072 - val_loss: 0.0578 - val_mse: 0.0123\n",
      "Epoch 170/200\n",
      "1597/1597 [==============================] - 1s 414us/sample - loss: 0.0460 - mse: 0.0072 - val_loss: 0.0581 - val_mse: 0.0122\n",
      "Epoch 171/200\n",
      "1597/1597 [==============================] - 1s 416us/sample - loss: 0.0460 - mse: 0.0071 - val_loss: 0.0584 - val_mse: 0.0126\n",
      "Epoch 172/200\n",
      "1597/1597 [==============================] - 1s 413us/sample - loss: 0.0464 - mse: 0.0073 - val_loss: 0.0577 - val_mse: 0.0124\n",
      "Epoch 173/200\n",
      "1597/1597 [==============================] - 1s 413us/sample - loss: 0.0458 - mse: 0.0071 - val_loss: 0.0582 - val_mse: 0.0123\n",
      "Epoch 174/200\n",
      "1597/1597 [==============================] - 1s 419us/sample - loss: 0.0458 - mse: 0.0071 - val_loss: 0.0581 - val_mse: 0.0124\n",
      "Epoch 175/200\n",
      "1597/1597 [==============================] - 1s 413us/sample - loss: 0.0461 - mse: 0.0072 - val_loss: 0.0574 - val_mse: 0.0122\n",
      "Epoch 176/200\n",
      "1597/1597 [==============================] - 1s 411us/sample - loss: 0.0457 - mse: 0.0071 - val_loss: 0.0578 - val_mse: 0.0122\n",
      "Epoch 177/200\n",
      "1597/1597 [==============================] - 1s 408us/sample - loss: 0.0458 - mse: 0.0071 - val_loss: 0.0575 - val_mse: 0.0124\n",
      "Epoch 178/200\n",
      "1597/1597 [==============================] - 1s 414us/sample - loss: 0.0457 - mse: 0.0071 - val_loss: 0.0574 - val_mse: 0.0122\n",
      "Epoch 179/200\n",
      "1597/1597 [==============================] - 1s 410us/sample - loss: 0.0458 - mse: 0.0071 - val_loss: 0.0582 - val_mse: 0.0126\n",
      "Epoch 180/200\n",
      "1597/1597 [==============================] - 1s 434us/sample - loss: 0.0454 - mse: 0.0070 - val_loss: 0.0584 - val_mse: 0.0127\n",
      "Epoch 181/200\n",
      "1597/1597 [==============================] - 1s 427us/sample - loss: 0.0459 - mse: 0.0071 - val_loss: 0.0578 - val_mse: 0.0121\n",
      "Epoch 182/200\n",
      "1597/1597 [==============================] - 1s 452us/sample - loss: 0.0455 - mse: 0.0070 - val_loss: 0.0578 - val_mse: 0.0122\n",
      "Epoch 183/200\n",
      "1597/1597 [==============================] - 1s 458us/sample - loss: 0.0454 - mse: 0.0070 - val_loss: 0.0574 - val_mse: 0.0122\n",
      "Epoch 184/200\n",
      "1597/1597 [==============================] - 1s 471us/sample - loss: 0.0454 - mse: 0.0070 - val_loss: 0.0580 - val_mse: 0.0123\n",
      "Epoch 185/200\n",
      "1597/1597 [==============================] - 1s 462us/sample - loss: 0.0456 - mse: 0.0070 - val_loss: 0.0585 - val_mse: 0.0125\n",
      "Epoch 186/200\n",
      "1597/1597 [==============================] - 1s 465us/sample - loss: 0.0452 - mse: 0.0069 - val_loss: 0.0579 - val_mse: 0.0123\n",
      "Epoch 187/200\n",
      "1597/1597 [==============================] - 1s 464us/sample - loss: 0.0454 - mse: 0.0069 - val_loss: 0.0577 - val_mse: 0.0121\n",
      "Epoch 188/200\n",
      "1597/1597 [==============================] - 1s 454us/sample - loss: 0.0452 - mse: 0.0069 - val_loss: 0.0586 - val_mse: 0.0127\n",
      "Epoch 189/200\n",
      "1597/1597 [==============================] - 1s 465us/sample - loss: 0.0450 - mse: 0.0068 - val_loss: 0.0585 - val_mse: 0.0128\n",
      "Epoch 190/200\n",
      "1597/1597 [==============================] - 1s 469us/sample - loss: 0.0452 - mse: 0.0068 - val_loss: 0.0583 - val_mse: 0.0125\n",
      "Epoch 191/200\n",
      "1597/1597 [==============================] - 1s 449us/sample - loss: 0.0452 - mse: 0.0068 - val_loss: 0.0584 - val_mse: 0.0125\n",
      "Epoch 192/200\n",
      "1597/1597 [==============================] - 1s 467us/sample - loss: 0.0450 - mse: 0.0068 - val_loss: 0.0588 - val_mse: 0.0129\n",
      "Epoch 193/200\n",
      "1597/1597 [==============================] - 1s 457us/sample - loss: 0.0452 - mse: 0.0068 - val_loss: 0.0578 - val_mse: 0.0125\n",
      "Epoch 194/200\n",
      "1597/1597 [==============================] - 1s 457us/sample - loss: 0.0450 - mse: 0.0068 - val_loss: 0.0576 - val_mse: 0.0124\n",
      "Epoch 195/200\n",
      "1597/1597 [==============================] - 1s 459us/sample - loss: 0.0450 - mse: 0.0068 - val_loss: 0.0582 - val_mse: 0.0122\n",
      "Epoch 196/200\n",
      "1597/1597 [==============================] - 1s 450us/sample - loss: 0.0452 - mse: 0.0068 - val_loss: 0.0587 - val_mse: 0.0129\n",
      "Epoch 197/200\n",
      "1597/1597 [==============================] - 1s 448us/sample - loss: 0.0446 - mse: 0.0066 - val_loss: 0.0582 - val_mse: 0.0128\n",
      "Epoch 198/200\n",
      "1597/1597 [==============================] - 1s 454us/sample - loss: 0.0448 - mse: 0.0067 - val_loss: 0.0583 - val_mse: 0.0124\n",
      "Epoch 199/200\n",
      "1597/1597 [==============================] - 1s 459us/sample - loss: 0.0446 - mse: 0.0066 - val_loss: 0.0580 - val_mse: 0.0126\n",
      "Epoch 200/200\n",
      "1597/1597 [==============================] - 1s 463us/sample - loss: 0.0445 - mse: 0.0066 - val_loss: 0.0587 - val_mse: 0.0129\n"
     ]
    }
   ],
   "source": [
    "history = gcn_lstm_model.fit(trainX,trainY,epochs = 200, batch_size = 60, verbose = 1, validation_data = [testX,testY])"
   ]
  },
  {
   "cell_type": "code",
   "execution_count": 13,
   "metadata": {},
   "outputs": [
    {
     "name": "stdout",
     "output_type": "stream",
     "text": [
      "Model: \"graph__convolution_lstm\"\n",
      "_________________________________________________________________\n",
      "Layer (type)                 Output Shape              Param #   \n",
      "=================================================================\n",
      "graph_convolution (GraphConv multiple                  43156     \n",
      "_________________________________________________________________\n",
      "graph_convolution_1 (GraphCo multiple                  43156     \n",
      "_________________________________________________________________\n",
      "lstm (LSTM)                  multiple                  326400    \n",
      "_________________________________________________________________\n",
      "dense (Dense)                multiple                  41607     \n",
      "_________________________________________________________________\n",
      "dropout (Dropout)            multiple                  0         \n",
      "=================================================================\n",
      "Total params: 454,319\n",
      "Trainable params: 368,621\n",
      "Non-trainable params: 85,698\n",
      "_________________________________________________________________\n"
     ]
    }
   ],
   "source": [
    "gcn_lstm_model.summary()"
   ]
  },
  {
   "cell_type": "code",
   "execution_count": 14,
   "metadata": {},
   "outputs": [
    {
     "data": {
      "image/png": "[encoded data removed]",
      "text/plain": [
       "<Figure size 432x288 with 1 Axes>"
      ]
     },
     "metadata": {
      "needs_background": "light"
     },
     "output_type": "display_data"
    }
   ],
   "source": [
    "plt.plot(history.history['loss'], label = 'Training loss')\n",
    "plt.plot(history.history['val_loss'], label = 'Test loss')\n",
    "plt.legend()\n",
    "plt.xlabel('epoch')\n",
    "plt.ylabel('loss')\n",
    "plt.show()"
   ]
  },
  {
   "cell_type": "code",
   "execution_count": 15,
   "metadata": {},
   "outputs": [],
   "source": [
    "ythat = gcn_lstm_model.predict(trainX)\n",
    "yhat = gcn_lstm_model.predict(testX)"
   ]
  },
  {
   "cell_type": "code",
   "execution_count": 16,
   "metadata": {},
   "outputs": [],
   "source": [
    "## Rescale values\n",
    "max_speed = train_data.max()\n",
    "min_speed = train_data.min()\n",
    "\n",
    "train_rescpred=np.array((ythat)*max_speed)\n",
    "test_rescpred=np.array((yhat)*max_speed)\n",
    "\n",
    "train_rescref=np.array(trainY*max_speed)\n",
    "test_rescref=np.array(testY*max_speed)"
   ]
  },
  {
   "cell_type": "markdown",
   "metadata": {},
   "source": [
    "#### Measuring the performance of the model\n",
    "\n",
    "To understand how well the model is performing, we compare it against two benchmarks.\n",
    "\n",
    "1. Naive prediction: using the most recently ***observed*** value as the predicted value. Note, that albeit being ***naive*** this is a very strong baseline to beat. Especially, when speeds are recorded at a 5 minutes granularity,  one does not expect many drastic changes within such a short period of time. Hence, for short-term predictions naive is a reasonable good guess.\n",
    "2. LSTM prediction: omitting the sensor distance network and assuming that every sensor has information about all other sensors. In other words the weights associated with all the sensors are trained together. \n",
    "\n",
    "We hope to make the case that gcn-lstm is the sweet spot between the two extremes of when the prediction is done as myopically as naive and when each prediction is based on information from the entire network.\n"
   ]
  },
  {
   "cell_type": "markdown",
   "metadata": {},
   "source": [
    "#### Naive prediction benchmark (using previous observed value)"
   ]
  },
  {
   "cell_type": "code",
   "execution_count": null,
   "metadata": {},
   "outputs": [],
   "source": [
    "## Naive prediction benchmark (using previous observed value)\n",
    "\n",
    "testnpred=np.array(testX).transpose(1,0,2)[-1] #picking the last speed of the 10 sequence for each segment in each sample\n",
    "testnpredc=(testnpred)*max_speed"
   ]
  },
  {
   "cell_type": "markdown",
   "metadata": {},
   "source": [
    "#### LSTM\n",
    "The LSTM based model consist an LSTM layer, followed by the Dense and Dropout layer similar to the GCN-LSTM model "
   ]
  },
  {
   "cell_type": "code",
   "execution_count": null,
   "metadata": {},
   "outputs": [],
   "source": []
  },
  {
   "cell_type": "code",
   "execution_count": 21,
   "metadata": {},
   "outputs": [
    {
     "name": "stdout",
     "output_type": "stream",
     "text": [
      "Total (ave) MAE for NN: 4.107802897256668\n",
      "Total (ave) MAE for naive prediction: 4.419344411501992\n",
      "Total (ave) MASE for per-segment NN/naive MAE: 0.9350760463836467\n",
      "...note that MASE<1 (for a given segment) means that the NN prediction is better than the naive prediction.\n"
     ]
    }
   ],
   "source": [
    "## Performance measures\n",
    "\n",
    "seg_mael=[]\n",
    "seg_masel=[]\n",
    "seg_nmael=[]\n",
    "\n",
    "for j in range(testX.shape[-1]):\n",
    "    \n",
    "    seg_mael.append(np.mean(np.abs(test_rescref.T[j]-test_rescpred.T[j]))) #Mean Absolute Error for NN\n",
    "    seg_nmael.append(np.mean(np.abs(test_rescref.T[j]-testnpredc.T[j]))) #Mean Absolute Error for naive prediction\n",
    "    if seg_nmael[-1] != 0:\n",
    "        seg_masel.append(seg_mael[-1]/seg_nmael[-1]) #Ratio of the two: Mean Absolute Scaled Error\n",
    "    else:\n",
    "        seg_masel.append(np.NaN)\n",
    "        \n",
    "print('Total (ave) MAE for NN: '+str(np.mean(np.array(seg_mael))))\n",
    "print('Total (ave) MAE for naive prediction: '+str(np.mean(np.array(seg_nmael))))\n",
    "print('Total (ave) MASE for per-segment NN/naive MAE: '+str(np.nanmean(np.array(seg_masel))))\n",
    "print('...note that MASE<1 (for a given segment) means that the NN prediction is better than the naive prediction.')"
   ]
  },
  {
   "cell_type": "code",
   "execution_count": 22,
   "metadata": {},
   "outputs": [
    {
     "data": {
      "image/png": "[encoded data removed]",
      "text/plain": [
       "<Figure size 432x288 with 1 Axes>"
      ]
     },
     "metadata": {
      "needs_background": "light"
     },
     "output_type": "display_data"
    }
   ],
   "source": [
    "# plot violin plot of MAE for naive and NN predictions\n",
    "fig, ax = plt.subplots()\n",
    "#xl = minsl\n",
    "\n",
    "ax.violinplot(list(seg_mael),\n",
    "                   showmeans=True,\n",
    "                   showmedians=False,\n",
    "              showextrema=False,\n",
    "             widths=1.0)\n",
    "\n",
    "ax.violinplot(list(seg_nmael),\n",
    "                   showmeans=True,\n",
    "                   showmedians=False,\n",
    "              showextrema=False,\n",
    "             widths=1.0)\n",
    "\n",
    "line1 = mlines.Line2D([], [], label='NN')\n",
    "line2 = mlines.Line2D([], [],color='C1', label='Instantaneous')\n",
    "\n",
    "ax.set_xlabel('Scaled distribution amplitude (after Gaussian convolution)')\n",
    "ax.set_ylabel('Mean Absolute Error')\n",
    "ax.set_title('Distribution over segments: NN pred (blue) and naive pred (orange)')\n",
    "plt.legend(handles=(line1,line2),title='Prediction Model',loc=2)\n",
    "plt.show()"
   ]
  },
  {
   "cell_type": "code",
   "execution_count": 23,
   "metadata": {},
   "outputs": [
    {
     "data": {
      "text/plain": [
       "[<matplotlib.lines.Line2D at 0x140a4aba8>]"
      ]
     },
     "execution_count": 23,
     "metadata": {},
     "output_type": "execute_result"
    },
    {
     "data": {
      "image/png": "[encoded data removed]",
      "text/plain": [
       "<Figure size 432x288 with 1 Axes>"
      ]
     },
     "metadata": {
      "needs_background": "light"
     },
     "output_type": "display_data"
    }
   ],
   "source": [
    "plt.plot(test_rescref[:200,100])\n",
    "plt.plot(test_rescpred[:200,100])"
   ]
  },
  {
   "cell_type": "code",
   "execution_count": 24,
   "metadata": {},
   "outputs": [
    {
     "data": {
      "image/png": "[encoded data removed]",
      "text/plain": [
       "<Figure size 1080x576 with 1 Axes>"
      ]
     },
     "metadata": {
      "needs_background": "light"
     },
     "output_type": "display_data"
    }
   ],
   "source": [
    "##all test result visualization\n",
    "fig1 = plt.figure(figsize=(15,8))\n",
    "#    ax1 = fig1.add_subplot(1,1,1)\n",
    "a_pred = test_rescpred[:,1]\n",
    "a_true = test_rescref[:,1]\n",
    "plt.plot(a_pred,'r-',label='prediction')\n",
    "plt.plot(a_true,'b-',label='true')\n",
    "plt.legend(loc='best',fontsize=10)\n",
    "plt.show()"
   ]
  },
  {
   "cell_type": "code",
   "execution_count": null,
   "metadata": {},
   "outputs": [],
   "source": []
  }
 ],
 "metadata": {
  "kernelspec": {
   "display_name": "Python 3",
   "language": "python",
   "name": "python3"
  },
  "language_info": {
   "codemirror_mode": {
    "name": "ipython",
    "version": 3
   },
   "file_extension": ".py",
   "mimetype": "text/x-python",
   "name": "python",
   "nbconvert_exporter": "python",
   "pygments_lexer": "ipython3",
   "version": "3.6.9"
  }
 },
 "nbformat": 4,
 "nbformat_minor": 4
}
